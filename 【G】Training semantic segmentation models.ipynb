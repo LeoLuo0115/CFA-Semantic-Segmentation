{
 "cells": [
  {
   "cell_type": "markdown",
   "id": "54f01792-37fc-4889-8cdf-5b5c0218f4c2",
   "metadata": {},
   "source": [
    "# Training semantic segmentation models"
   ]
  },
  {
   "cell_type": "markdown",
   "id": "895c5c8e-9683-4e88-a906-01e6f892fff6",
   "metadata": {
    "jp-MarkdownHeadingCollapsed": true,
    "tags": []
   },
   "source": [
    "## config configuration file (either one)\n",
    "\n",
    "- ZihaoDataset_UNet_20230818.py\n",
    "\n",
    "- ZihaoDataset_DeepLabV3plus_20230818.py\n",
    "\n",
    "- ZihaoDataset_PSPNet_20230818.py\n",
    "\n",
    "- ZihaoDataset_KNet_20230818.py\n",
    "\n",
    "- ZihaoDataset_Segformer_20230818.py\n",
    "\n",
    "- ZihaoDataset_Mask2Former_20230818.py\n",
    "\n",
    "- ZihaoDataset_FastSCNN_20230818.py"
   ]
  },
  {
   "cell_type": "markdown",
   "id": "e053fb95-8c8d-4ec4-b165-119d8adf6fb6",
   "metadata": {},
   "source": [
    "## Method 1: Run in Command Line (Recommended)\n",
    "\n",
    "```shell\n",
    "cd mmsegmentation\n",
    "\n",
    "python tools/train.py Zihao-Configs/ZihaoDataset_PSPNet_20230818.py\n",
    "\n",
    "python tools/train.py Zihao-Configs/ZihaoDataset_KNet_20230818.py\n",
    "\n",
    "python tools/train.py Zihao-Configs/ZihaoDataset_FastSCNN_20230818.py\n",
    "\n",
    "```"
   ]
  },
  {
   "cell_type": "markdown",
   "id": "941cb87e-bae9-4863-81c8-4fc83fa3e8ca",
   "metadata": {},
   "source": [
    "## Method 2: Running in a Notebook"
   ]
  },
  {
   "cell_type": "code",
   "execution_count": 1,
   "id": "6ece87c2-7b4d-413d-8a47-b34a07f4570d",
   "metadata": {},
   "outputs": [],
   "source": [
    "# Change to the MMSegmentation main directory\n",
    "import os\n",
    "os.chdir('mmsegmentation')"
   ]
  },
  {
   "cell_type": "code",
   "execution_count": 2,
   "id": "5d6c698f-dfc9-426a-bf49-5605aa37fd92",
   "metadata": {},
   "outputs": [
    {
     "data": {
      "text/plain": [
       "'/home/featurize/work/MMSegmentation教程20230625/mmsegmentation'"
      ]
     },
     "execution_count": 2,
     "metadata": {},
     "output_type": "execute_result"
    }
   ],
   "source": [
    "os.getcwd()"
   ]
  },
  {
   "cell_type": "code",
   "execution_count": null,
   "id": "164d6f92-68ae-4957-85c3-e69474418240",
   "metadata": {},
   "outputs": [],
   "source": [
    "# Start training\n",
    "!python tools/train.py Zihao-Configs/ZihaoDataset_PSPNet_20230818.py"
   ]
  },
  {
   "cell_type": "markdown",
   "id": "6aa9e5f1-f579-4f16-aa97-ca02c1bb29f8",
   "metadata": {},
   "source": [
    "## If you encounter a `CUDA out of memory` error, try the following steps:\n",
    "\n",
    "1. Reduce the batch size\n",
    "\n",
    "2. In the top left, select `Kernel - Shutdown All Kernels` to free up GPU memory used by other notebooks\n",
    "\n",
    "3. Restart the instance or use an instance with more GPU memory\n",
    "\n",
    "## Training results (logs, model weight files) are saved in the `work_dirs` directory"
   ]
  },
  {
   "cell_type": "code",
   "execution_count": null,
   "id": "becb0b56-b5f3-42bf-88e4-bd64bb580517",
   "metadata": {},
   "outputs": [],
   "source": []
  }
 ],
 "metadata": {
  "kernelspec": {
   "display_name": "Python 3 (ipykernel)",
   "language": "python",
   "name": "python3"
  },
  "language_info": {
   "codemirror_mode": {
    "name": "ipython",
    "version": 3
   },
   "file_extension": ".py",
   "mimetype": "text/x-python",
   "name": "python",
   "nbconvert_exporter": "python",
   "pygments_lexer": "ipython3",
   "version": "3.7.10"
  }
 },
 "nbformat": 4,
 "nbformat_minor": 5
}
