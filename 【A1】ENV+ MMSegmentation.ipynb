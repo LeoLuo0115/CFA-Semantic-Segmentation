{
 "cells": [
  {
   "cell_type": "markdown",
   "id": "bc3d1961-9081-49c9-be56-ad0c748decf1",
   "metadata": {},
   "source": [
    "# MMSegmentation Installation and Configuration"
   ]
  },
  {
   "cell_type": "markdown",
   "id": "0fc8ebd8-db6e-4a17-895f-2f87fc98ca79",
   "metadata": {},
   "source": [
    "Run this code line by line in order to install and configure MMCV and MMSegmentation environments"
   ]
  },
  {
   "cell_type": "markdown",
   "id": "6fc1c686-1267-4503-b9e4-bcb188a7f974",
   "metadata": {
    "tags": []
   },
   "source": [
    "## Installing PyTorch\n",
    "\n",
    "https://pytorch.org"
   ]
  },
  {
   "cell_type": "code",
   "execution_count": 4,
   "id": "5c18acad-1a02-4cf4-a06a-6a75ac8cb479",
   "metadata": {},
   "outputs": [],
   "source": [
    "# !pip3 install install torch==1.10.1+cu113 torchvision==0.11.2+cu113 -f https://download.pytorch.org/whl/cu113/torch_stable.html"
   ]
  },
  {
   "cell_type": "code",
   "execution_count": 5,
   "id": "0d1af6fb-e4c7-4eb7-afdf-4754f964cd04",
   "metadata": {},
   "outputs": [
    {
     "data": {
      "text/plain": [
       "'1.10.0+cu113'"
      ]
     },
     "execution_count": 5,
     "metadata": {},
     "output_type": "execute_result"
    }
   ],
   "source": [
    "import torch\n",
    "torch.__version__"
   ]
  },
  {
   "cell_type": "markdown",
   "id": "054b64e4-4796-4136-b45e-3664b281cf30",
   "metadata": {},
   "source": [
    "## Installing MMCV using MIM"
   ]
  },
  {
   "cell_type": "code",
   "execution_count": 6,
   "id": "3fab4b08-7b45-4c82-923c-b08b680d1c76",
   "metadata": {},
   "outputs": [
    {
     "name": "stdout",
     "output_type": "stream",
     "text": [
      "Looking in indexes: https://pypi.tuna.tsinghua.edu.cn/simple\n",
      "Collecting openmim\n",
      "  Downloading https://pypi.tuna.tsinghua.edu.cn/packages/00/b3/95531cee452028869d0e08974561f83e9c256c98f62c7a45a51893a61c54/openmim-0.3.9-py2.py3-none-any.whl (52 kB)\n",
      "\u001b[K     |████████████████████████████████| 52 kB 37.6 MB/s eta 0:00:01\n",
      "\u001b[?25hRequirement already satisfied: pip>=19.3 in /environment/miniconda3/lib/python3.7/site-packages (from openmim) (21.1.3)\n",
      "Collecting rich\n",
      "  Downloading https://pypi.tuna.tsinghua.edu.cn/packages/b0/11/dadb85e2bd6b1f1ae56669c3e1f0410797f9605d752d68fb47b77f525b31/rich-13.8.1-py3-none-any.whl (241 kB)\n",
      "\u001b[K     |████████████████████████████████| 241 kB 103.3 MB/s eta 0:00:01\n",
      "\u001b[?25hRequirement already satisfied: requests in /environment/miniconda3/lib/python3.7/site-packages (from openmim) (2.24.0)\n",
      "Requirement already satisfied: colorama in /environment/miniconda3/lib/python3.7/site-packages (from openmim) (0.4.4)\n",
      "Collecting model-index\n",
      "  Downloading https://pypi.tuna.tsinghua.edu.cn/packages/0f/a6/4d4cbbef704f186d143e2859296a610a355992e4eae71582bd598093b36a/model_index-0.1.11-py3-none-any.whl (34 kB)\n",
      "Collecting opendatalab\n",
      "  Downloading https://pypi.tuna.tsinghua.edu.cn/packages/10/82/28fa3a91b7c4852fbad9ad32c7b49e4b1e212ab7ccf7296736da0935070d/opendatalab-0.0.10-py3-none-any.whl (29 kB)\n",
      "Requirement already satisfied: Click in /environment/miniconda3/lib/python3.7/site-packages (from openmim) (7.1.2)\n",
      "Requirement already satisfied: pandas in /environment/miniconda3/lib/python3.7/site-packages (from openmim) (1.3.4)\n",
      "Requirement already satisfied: tabulate in /environment/miniconda3/lib/python3.7/site-packages (from openmim) (0.8.7)\n",
      "Requirement already satisfied: markdown in /environment/miniconda3/lib/python3.7/site-packages (from model-index->openmim) (3.3.6)\n",
      "Requirement already satisfied: pyyaml in /environment/miniconda3/lib/python3.7/site-packages (from model-index->openmim) (6.0)\n",
      "Collecting ordered-set\n",
      "  Downloading https://pypi.tuna.tsinghua.edu.cn/packages/33/55/af02708f230eb77084a299d7b08175cff006dea4f2721074b92cdb0296c0/ordered_set-4.1.0-py3-none-any.whl (7.6 kB)\n",
      "Requirement already satisfied: importlib-metadata>=4.4 in /environment/miniconda3/lib/python3.7/site-packages (from markdown->model-index->openmim) (4.8.2)\n",
      "Requirement already satisfied: typing-extensions>=3.6.4 in /environment/miniconda3/lib/python3.7/site-packages (from importlib-metadata>=4.4->markdown->model-index->openmim) (4.0.1)\n",
      "Requirement already satisfied: zipp>=0.5 in /environment/miniconda3/lib/python3.7/site-packages (from importlib-metadata>=4.4->markdown->model-index->openmim) (3.6.0)\n",
      "Requirement already satisfied: tqdm in /environment/miniconda3/lib/python3.7/site-packages (from opendatalab->openmim) (4.61.2)\n",
      "Requirement already satisfied: pycryptodome in /environment/miniconda3/lib/python3.7/site-packages (from opendatalab->openmim) (3.12.0)\n",
      "Collecting openxlab\n",
      "  Downloading https://pypi.tuna.tsinghua.edu.cn/packages/34/5a/0a0db3dd81494e7b34d009993cb702ae9c7c03435f1393ebfc36546d7107/openxlab-0.0.10-py3-none-any.whl (32 kB)\n",
      "Requirement already satisfied: idna<3,>=2.5 in /environment/miniconda3/lib/python3.7/site-packages (from requests->openmim) (2.10)\n",
      "Requirement already satisfied: certifi>=2017.4.17 in /environment/miniconda3/lib/python3.7/site-packages (from requests->openmim) (2021.5.30)\n",
      "Requirement already satisfied: chardet<4,>=3.0.2 in /environment/miniconda3/lib/python3.7/site-packages (from requests->openmim) (3.0.4)\n",
      "Requirement already satisfied: urllib3!=1.25.0,!=1.25.1,<1.26,>=1.21.1 in /environment/miniconda3/lib/python3.7/site-packages (from requests->openmim) (1.25.11)\n",
      "Collecting pytz~=2023.3\n",
      "  Downloading https://pypi.tuna.tsinghua.edu.cn/packages/3b/dd/9b84302ba85ac6d3d3042d3e8698374838bde1c386b4adb1223d7a0efd4e/pytz-2023.4-py2.py3-none-any.whl (506 kB)\n",
      "\u001b[K     |████████████████████████████████| 506 kB 93.7 MB/s eta 0:00:01\n",
      "\u001b[?25hCollecting setuptools~=60.2.0\n",
      "  Downloading https://pypi.tuna.tsinghua.edu.cn/packages/8e/16/8f64922c8d7cd7ec193b145c9b11ad281064ff8604452ba19a6d5bbd7ed9/setuptools-60.2.0-py3-none-any.whl (953 kB)\n",
      "\u001b[K     |████████████████████████████████| 953 kB 79.4 MB/s eta 0:00:01\n",
      "\u001b[?25hCollecting tqdm\n",
      "  Downloading https://pypi.tuna.tsinghua.edu.cn/packages/c0/ab/bd9ba7f84c509c8b377628bc66696d52623e30c6c0830db3c78748eec4b4/tqdm-4.65.2-py3-none-any.whl (77 kB)\n",
      "\u001b[K     |████████████████████████████████| 77 kB 81.9 MB/s eta 0:00:01\n",
      "\u001b[?25hCollecting requests\n",
      "  Downloading https://pypi.tuna.tsinghua.edu.cn/packages/d2/f4/274d1dbe96b41cf4e0efb70cbced278ffd61b5c7bb70338b62af94ccb25b/requests-2.28.2-py3-none-any.whl (62 kB)\n",
      "\u001b[K     |████████████████████████████████| 62 kB 47.8 MB/s eta 0:00:01\n",
      "\u001b[?25hCollecting oss2~=2.17.0\n",
      "  Downloading https://pypi.tuna.tsinghua.edu.cn/packages/86/e7/017f8a5948d70e130815eebd14c25dfad916bd574590f2d7e046f19eee3f/oss2-2.17.0.tar.gz (259 kB)\n",
      "\u001b[K     |████████████████████████████████| 259 kB 84.5 MB/s eta 0:00:01\n",
      "\u001b[?25hRequirement already satisfied: crcmod>=1.7 in /environment/miniconda3/lib/python3.7/site-packages (from oss2~=2.17.0->openxlab->opendatalab->openmim) (1.7)\n",
      "Requirement already satisfied: aliyun-python-sdk-kms>=2.4.1 in /environment/miniconda3/lib/python3.7/site-packages (from oss2~=2.17.0->openxlab->opendatalab->openmim) (2.15.0)\n",
      "Requirement already satisfied: aliyun-python-sdk-core>=2.13.12 in /environment/miniconda3/lib/python3.7/site-packages (from oss2~=2.17.0->openxlab->opendatalab->openmim) (2.13.35)\n",
      "Requirement already satisfied: six in /environment/miniconda3/lib/python3.7/site-packages (from oss2~=2.17.0->openxlab->opendatalab->openmim) (1.16.0)\n",
      "Requirement already satisfied: cryptography>=2.6.0 in /environment/miniconda3/lib/python3.7/site-packages (from aliyun-python-sdk-core>=2.13.12->oss2~=2.17.0->openxlab->opendatalab->openmim) (3.4.7)\n",
      "Requirement already satisfied: jmespath<1.0.0,>=0.9.3 in /environment/miniconda3/lib/python3.7/site-packages (from aliyun-python-sdk-core>=2.13.12->oss2~=2.17.0->openxlab->opendatalab->openmim) (0.10.0)\n",
      "Requirement already satisfied: cffi>=1.12 in /environment/miniconda3/lib/python3.7/site-packages (from cryptography>=2.6.0->aliyun-python-sdk-core>=2.13.12->oss2~=2.17.0->openxlab->opendatalab->openmim) (1.14.6)\n",
      "Requirement already satisfied: pycparser in /environment/miniconda3/lib/python3.7/site-packages (from cffi>=1.12->cryptography>=2.6.0->aliyun-python-sdk-core>=2.13.12->oss2~=2.17.0->openxlab->opendatalab->openmim) (2.20)\n",
      "Collecting charset-normalizer<4,>=2\n",
      "  Downloading https://pypi.tuna.tsinghua.edu.cn/packages/10/2f/6e2c727649d5e97ee17230f4c064480c69eb563f52ba87df448647d77a99/charset_normalizer-3.4.1-cp37-cp37m-manylinux_2_17_x86_64.manylinux2014_x86_64.whl (138 kB)\n",
      "\u001b[K     |████████████████████████████████| 138 kB 100.3 MB/s eta 0:00:01\n",
      "\u001b[?25hRequirement already satisfied: numpy>=1.17.3 in /environment/miniconda3/lib/python3.7/site-packages (from pandas->openmim) (1.21.4)\n",
      "Requirement already satisfied: python-dateutil>=2.7.3 in /environment/miniconda3/lib/python3.7/site-packages (from pandas->openmim) (2.8.2)\n",
      "Collecting pygments<3.0.0,>=2.13.0\n",
      "  Downloading https://pypi.tuna.tsinghua.edu.cn/packages/97/9c/372fef8377a6e340b1704768d20daaded98bf13282b5327beb2e2fe2c7ef/pygments-2.17.2-py3-none-any.whl (1.2 MB)\n",
      "\u001b[K     |████████████████████████████████| 1.2 MB 58.7 MB/s eta 0:00:01\n",
      "\u001b[?25hCollecting markdown-it-py>=2.2.0\n",
      "  Downloading https://pypi.tuna.tsinghua.edu.cn/packages/bf/25/2d88e8feee8e055d015343f9b86e370a1ccbec546f2865c98397aaef24af/markdown_it_py-2.2.0-py3-none-any.whl (84 kB)\n",
      "\u001b[K     |████████████████████████████████| 84 kB 71.4 MB/s  eta 0:00:01\n",
      "\u001b[?25hCollecting mdurl~=0.1\n",
      "  Downloading https://pypi.tuna.tsinghua.edu.cn/packages/b3/38/89ba8ad64ae25be8de66a6d463314cf1eb366222074cfda9ee839c56a4b4/mdurl-0.1.2-py3-none-any.whl (10.0 kB)\n",
      "Building wheels for collected packages: oss2\n",
      "  Building wheel for oss2 (setup.py) ... \u001b[?25ldone\n",
      "\u001b[?25h  Created wheel for oss2: filename=oss2-2.17.0-py3-none-any.whl size=112395 sha256=59a6c7d57ef5dd9213562d8b2b146259250bf763e12a9b1ea938f835dcb87df1\n",
      "  Stored in directory: /home/featurize/.cache/pip/wheels/b5/69/c6/f177082e72b3023bdeb0963aae82b0ed6e7b2ea9e600c37e90\n",
      "Successfully built oss2\n",
      "Installing collected packages: charset-normalizer, requests, mdurl, tqdm, setuptools, pytz, pygments, oss2, markdown-it-py, rich, ordered-set, openxlab, opendatalab, model-index, openmim\n",
      "  Attempting uninstall: requests\n",
      "    Found existing installation: requests 2.24.0\n",
      "    Uninstalling requests-2.24.0:\n",
      "      Successfully uninstalled requests-2.24.0\n",
      "  Attempting uninstall: tqdm\n",
      "    Found existing installation: tqdm 4.61.2\n",
      "    Uninstalling tqdm-4.61.2:\n",
      "      Successfully uninstalled tqdm-4.61.2\n",
      "  Attempting uninstall: setuptools\n",
      "    Found existing installation: setuptools 52.0.0.post20210125\n",
      "    Uninstalling setuptools-52.0.0.post20210125:\n",
      "      Successfully uninstalled setuptools-52.0.0.post20210125\n",
      "  Attempting uninstall: pytz\n",
      "    Found existing installation: pytz 2021.3\n",
      "    Uninstalling pytz-2021.3:\n",
      "      Successfully uninstalled pytz-2021.3\n",
      "  Attempting uninstall: pygments\n",
      "    Found existing installation: Pygments 2.10.0\n",
      "    Uninstalling Pygments-2.10.0:\n",
      "      Successfully uninstalled Pygments-2.10.0\n",
      "  Attempting uninstall: oss2\n",
      "    Found existing installation: oss2 2.15.0\n",
      "    Uninstalling oss2-2.15.0:\n",
      "      Successfully uninstalled oss2-2.15.0\n",
      "\u001b[31mERROR: pip's dependency resolver does not currently take into account all the packages that are installed. This behaviour is the source of the following dependency conflicts.\n",
      "featurize 0.0.24 requires requests==2.24.0, but you have requests 2.28.2 which is incompatible.\u001b[0m\n",
      "Successfully installed charset-normalizer-3.4.1 markdown-it-py-2.2.0 mdurl-0.1.2 model-index-0.1.11 opendatalab-0.0.10 openmim-0.3.9 openxlab-0.0.10 ordered-set-4.1.0 oss2-2.17.0 pygments-2.17.2 pytz-2023.4 requests-2.28.2 rich-13.8.1 setuptools-60.2.0 tqdm-4.65.2\n",
      "Looking in indexes: https://pypi.tuna.tsinghua.edu.cn/simple\n",
      "Looking in links: https://download.openmmlab.com/mmcv/dist/cu113/torch1.10.0/index.html\n",
      "Collecting mmengine\n",
      "  Downloading https://pypi.tuna.tsinghua.edu.cn/packages/98/8e/f98332248aad102511bea4ae19c0ddacd2f0a994f3ca4c82b7a369e0af8b/mmengine-0.10.7-py3-none-any.whl (452 kB)\n",
      "\u001b[K     |████████████████████████████████| 452 kB 78.0 MB/s eta 0:00:01\n",
      "\u001b[?25hCollecting addict\n",
      "  Downloading https://pypi.tuna.tsinghua.edu.cn/packages/6a/00/b08f23b7d7e1e14ce01419a467b583edbb93c6cdb8654e54a9cc579cd61f/addict-2.4.0-py3-none-any.whl (3.8 kB)\n",
      "Requirement already satisfied: termcolor in /environment/miniconda3/lib/python3.7/site-packages (from mmengine) (1.1.0)\n",
      "Requirement already satisfied: numpy in /environment/miniconda3/lib/python3.7/site-packages (from mmengine) (1.21.4)\n",
      "Requirement already satisfied: opencv-python>=3 in /environment/miniconda3/lib/python3.7/site-packages (from mmengine) (4.5.4.60)\n",
      "Requirement already satisfied: pyyaml in /environment/miniconda3/lib/python3.7/site-packages (from mmengine) (6.0)\n",
      "Requirement already satisfied: yapf in /environment/miniconda3/lib/python3.7/site-packages (from mmengine) (0.31.0)\n",
      "Requirement already satisfied: rich in /environment/miniconda3/lib/python3.7/site-packages (from mmengine) (13.8.1)\n",
      "Requirement already satisfied: matplotlib in /environment/miniconda3/lib/python3.7/site-packages (from mmengine) (3.5.0)\n",
      "Requirement already satisfied: cycler>=0.10 in /environment/miniconda3/lib/python3.7/site-packages (from matplotlib->mmengine) (0.11.0)\n",
      "Requirement already satisfied: packaging>=20.0 in /environment/miniconda3/lib/python3.7/site-packages (from matplotlib->mmengine) (21.3)\n",
      "Requirement already satisfied: kiwisolver>=1.0.1 in /environment/miniconda3/lib/python3.7/site-packages (from matplotlib->mmengine) (1.3.2)\n",
      "Requirement already satisfied: pillow>=6.2.0 in /environment/miniconda3/lib/python3.7/site-packages (from matplotlib->mmengine) (8.4.0)\n",
      "Requirement already satisfied: fonttools>=4.22.0 in /environment/miniconda3/lib/python3.7/site-packages (from matplotlib->mmengine) (4.28.3)\n",
      "Requirement already satisfied: setuptools-scm>=4 in /environment/miniconda3/lib/python3.7/site-packages (from matplotlib->mmengine) (6.3.2)\n",
      "Requirement already satisfied: python-dateutil>=2.7 in /environment/miniconda3/lib/python3.7/site-packages (from matplotlib->mmengine) (2.8.2)\n",
      "Requirement already satisfied: pyparsing>=2.2.1 in /environment/miniconda3/lib/python3.7/site-packages (from matplotlib->mmengine) (3.0.6)\n",
      "Requirement already satisfied: six>=1.5 in /environment/miniconda3/lib/python3.7/site-packages (from python-dateutil>=2.7->matplotlib->mmengine) (1.16.0)\n",
      "Requirement already satisfied: tomli>=1.0.0 in /environment/miniconda3/lib/python3.7/site-packages (from setuptools-scm>=4->matplotlib->mmengine) (1.2.2)\n",
      "Requirement already satisfied: setuptools in /environment/miniconda3/lib/python3.7/site-packages (from setuptools-scm>=4->matplotlib->mmengine) (60.2.0)\n",
      "Requirement already satisfied: markdown-it-py>=2.2.0 in /environment/miniconda3/lib/python3.7/site-packages (from rich->mmengine) (2.2.0)\n",
      "Requirement already satisfied: pygments<3.0.0,>=2.13.0 in /environment/miniconda3/lib/python3.7/site-packages (from rich->mmengine) (2.17.2)\n",
      "Requirement already satisfied: typing-extensions<5.0,>=4.0.0 in /environment/miniconda3/lib/python3.7/site-packages (from rich->mmengine) (4.0.1)\n",
      "Requirement already satisfied: mdurl~=0.1 in /environment/miniconda3/lib/python3.7/site-packages (from markdown-it-py>=2.2.0->rich->mmengine) (0.1.2)\n",
      "Installing collected packages: addict, mmengine\n",
      "Successfully installed addict-2.4.0 mmengine-0.10.7\n",
      "Looking in indexes: https://pypi.tuna.tsinghua.edu.cn/simple\n",
      "Looking in links: https://download.openmmlab.com/mmcv/dist/cu113/torch1.10.0/index.html\n",
      "Collecting mmcv==2.0.0\n",
      "  Downloading https://download.openmmlab.com/mmcv/dist/cu113/torch1.10.0/mmcv-2.0.0-cp37-cp37m-manylinux1_x86_64.whl (86.2 MB)\n",
      "\u001b[K     |████████████████████████████████| 86.2 MB 8.3 MB/s eta 0:00:011\n",
      "\u001b[?25hRequirement already satisfied: packaging in /environment/miniconda3/lib/python3.7/site-packages (from mmcv==2.0.0) (21.3)\n",
      "Requirement already satisfied: yapf in /environment/miniconda3/lib/python3.7/site-packages (from mmcv==2.0.0) (0.31.0)\n",
      "Requirement already satisfied: addict in /environment/miniconda3/lib/python3.7/site-packages (from mmcv==2.0.0) (2.4.0)\n",
      "Requirement already satisfied: Pillow in /environment/miniconda3/lib/python3.7/site-packages (from mmcv==2.0.0) (8.4.0)\n",
      "Requirement already satisfied: mmengine>=0.2.0 in /environment/miniconda3/lib/python3.7/site-packages (from mmcv==2.0.0) (0.10.7)\n",
      "Requirement already satisfied: opencv-python>=3 in /environment/miniconda3/lib/python3.7/site-packages (from mmcv==2.0.0) (4.5.4.60)\n",
      "Requirement already satisfied: pyyaml in /environment/miniconda3/lib/python3.7/site-packages (from mmcv==2.0.0) (6.0)\n",
      "Requirement already satisfied: numpy in /environment/miniconda3/lib/python3.7/site-packages (from mmcv==2.0.0) (1.21.4)\n",
      "Requirement already satisfied: matplotlib in /environment/miniconda3/lib/python3.7/site-packages (from mmengine>=0.2.0->mmcv==2.0.0) (3.5.0)\n",
      "Requirement already satisfied: termcolor in /environment/miniconda3/lib/python3.7/site-packages (from mmengine>=0.2.0->mmcv==2.0.0) (1.1.0)\n",
      "Requirement already satisfied: rich in /environment/miniconda3/lib/python3.7/site-packages (from mmengine>=0.2.0->mmcv==2.0.0) (13.8.1)\n",
      "Requirement already satisfied: cycler>=0.10 in /environment/miniconda3/lib/python3.7/site-packages (from matplotlib->mmengine>=0.2.0->mmcv==2.0.0) (0.11.0)\n",
      "Requirement already satisfied: fonttools>=4.22.0 in /environment/miniconda3/lib/python3.7/site-packages (from matplotlib->mmengine>=0.2.0->mmcv==2.0.0) (4.28.3)\n",
      "Requirement already satisfied: kiwisolver>=1.0.1 in /environment/miniconda3/lib/python3.7/site-packages (from matplotlib->mmengine>=0.2.0->mmcv==2.0.0) (1.3.2)\n",
      "Requirement already satisfied: setuptools-scm>=4 in /environment/miniconda3/lib/python3.7/site-packages (from matplotlib->mmengine>=0.2.0->mmcv==2.0.0) (6.3.2)\n",
      "Requirement already satisfied: pyparsing>=2.2.1 in /environment/miniconda3/lib/python3.7/site-packages (from matplotlib->mmengine>=0.2.0->mmcv==2.0.0) (3.0.6)\n",
      "Requirement already satisfied: python-dateutil>=2.7 in /environment/miniconda3/lib/python3.7/site-packages (from matplotlib->mmengine>=0.2.0->mmcv==2.0.0) (2.8.2)\n",
      "Requirement already satisfied: six>=1.5 in /environment/miniconda3/lib/python3.7/site-packages (from python-dateutil>=2.7->matplotlib->mmengine>=0.2.0->mmcv==2.0.0) (1.16.0)\n",
      "Requirement already satisfied: setuptools in /environment/miniconda3/lib/python3.7/site-packages (from setuptools-scm>=4->matplotlib->mmengine>=0.2.0->mmcv==2.0.0) (60.2.0)\n",
      "Requirement already satisfied: tomli>=1.0.0 in /environment/miniconda3/lib/python3.7/site-packages (from setuptools-scm>=4->matplotlib->mmengine>=0.2.0->mmcv==2.0.0) (1.2.2)\n",
      "Requirement already satisfied: markdown-it-py>=2.2.0 in /environment/miniconda3/lib/python3.7/site-packages (from rich->mmengine>=0.2.0->mmcv==2.0.0) (2.2.0)\n",
      "Requirement already satisfied: pygments<3.0.0,>=2.13.0 in /environment/miniconda3/lib/python3.7/site-packages (from rich->mmengine>=0.2.0->mmcv==2.0.0) (2.17.2)\n",
      "Requirement already satisfied: typing-extensions<5.0,>=4.0.0 in /environment/miniconda3/lib/python3.7/site-packages (from rich->mmengine>=0.2.0->mmcv==2.0.0) (4.0.1)\n",
      "Requirement already satisfied: mdurl~=0.1 in /environment/miniconda3/lib/python3.7/site-packages (from markdown-it-py>=2.2.0->rich->mmengine>=0.2.0->mmcv==2.0.0) (0.1.2)\n",
      "Installing collected packages: mmcv\n",
      "Successfully installed mmcv-2.0.0\n"
     ]
    }
   ],
   "source": [
    "!pip install -U openmim\n",
    "!mim install mmengine\n",
    "!mim install mmcv==2.0.0"
   ]
  },
  {
   "cell_type": "markdown",
   "id": "38c55520-071b-41de-91f4-3ec78e16bf27",
   "metadata": {},
   "source": [
    "## Installing Other Packages"
   ]
  },
  {
   "cell_type": "code",
   "execution_count": 7,
   "id": "eb4b3373-f117-46a9-ab43-e67753eb7c61",
   "metadata": {},
   "outputs": [
    {
     "name": "stdout",
     "output_type": "stream",
     "text": [
      "Looking in indexes: https://pypi.tuna.tsinghua.edu.cn/simple\n",
      "Requirement already satisfied: opencv-python in /environment/miniconda3/lib/python3.7/site-packages (4.5.4.60)\n",
      "Requirement already satisfied: pillow in /environment/miniconda3/lib/python3.7/site-packages (8.4.0)\n",
      "Requirement already satisfied: matplotlib in /environment/miniconda3/lib/python3.7/site-packages (3.5.0)\n",
      "Collecting seaborn\n",
      "  Downloading https://pypi.tuna.tsinghua.edu.cn/packages/8f/2e/17bbb83fbf102687bb2aa3d808add39da820a7698159302a1a69bb82e01c/seaborn-0.12.2-py3-none-any.whl (293 kB)\n",
      "\u001b[K     |████████████████████████████████| 293 kB 96.4 MB/s eta 0:00:01\n",
      "\u001b[?25hRequirement already satisfied: tqdm in /environment/miniconda3/lib/python3.7/site-packages (4.65.2)\n",
      "Collecting pytorch-lightning\n",
      "  Downloading https://pypi.tuna.tsinghua.edu.cn/packages/77/ed/7d91e1958f0d48b439fae0de8ece3de3ce8c3d4e03b04bd3c007ba879a49/pytorch_lightning-1.9.5-py3-none-any.whl (829 kB)\n",
      "\u001b[K     |████████████████████████████████| 829 kB 83.2 MB/s eta 0:00:01\n",
      "\u001b[?25hCollecting mmdet>=3.1.0\n",
      "  Downloading https://pypi.tuna.tsinghua.edu.cn/packages/02/c7/c2d91161c9b3e1c237ea00e9cefb7f4bfe2854769f56025db415b734aedb/mmdet-3.3.0-py3-none-any.whl (2.2 MB)\n",
      "\u001b[K     |████████████████████████████████| 2.2 MB 45.7 MB/s eta 0:00:01\n",
      "\u001b[?25hRequirement already satisfied: six in /environment/miniconda3/lib/python3.7/site-packages (from mmdet>=3.1.0) (1.16.0)\n",
      "Collecting terminaltables\n",
      "  Downloading https://pypi.tuna.tsinghua.edu.cn/packages/c4/fb/ea621e0a19733e01fe4005d46087d383693c0f4a8f824b47d8d4122c87e0/terminaltables-3.1.10-py2.py3-none-any.whl (15 kB)\n",
      "Collecting shapely\n",
      "  Downloading https://pypi.tuna.tsinghua.edu.cn/packages/b1/ee/834c24687d14123d7d94a4716154148d3710454dd36a9a8d0df8d15fe999/shapely-2.0.7-cp37-cp37m-manylinux_2_17_x86_64.manylinux2014_x86_64.whl (2.4 MB)\n",
      "\u001b[K     |████████████████████████████████| 2.4 MB 44.4 MB/s eta 0:00:01\n",
      "\u001b[?25hRequirement already satisfied: numpy in /environment/miniconda3/lib/python3.7/site-packages (from mmdet>=3.1.0) (1.21.4)\n",
      "Requirement already satisfied: scipy in /environment/miniconda3/lib/python3.7/site-packages (from mmdet>=3.1.0) (1.7.3)\n",
      "Collecting pycocotools\n",
      "  Downloading https://pypi.tuna.tsinghua.edu.cn/packages/27/37/9a47974f4176d10d5304ead7f4c1ddf6e4148405d4e4c5414c4c68967295/pycocotools-2.0.7-cp37-cp37m-manylinux_2_17_x86_64.manylinux2014_x86_64.whl (403 kB)\n",
      "\u001b[K     |████████████████████████████████| 403 kB 105.4 MB/s eta 0:00:01\n",
      "\u001b[?25hRequirement already satisfied: packaging>=20.0 in /environment/miniconda3/lib/python3.7/site-packages (from matplotlib) (21.3)\n",
      "Requirement already satisfied: kiwisolver>=1.0.1 in /environment/miniconda3/lib/python3.7/site-packages (from matplotlib) (1.3.2)\n",
      "Requirement already satisfied: cycler>=0.10 in /environment/miniconda3/lib/python3.7/site-packages (from matplotlib) (0.11.0)\n",
      "Requirement already satisfied: fonttools>=4.22.0 in /environment/miniconda3/lib/python3.7/site-packages (from matplotlib) (4.28.3)\n",
      "Requirement already satisfied: setuptools-scm>=4 in /environment/miniconda3/lib/python3.7/site-packages (from matplotlib) (6.3.2)\n",
      "Requirement already satisfied: pyparsing>=2.2.1 in /environment/miniconda3/lib/python3.7/site-packages (from matplotlib) (3.0.6)\n",
      "Requirement already satisfied: python-dateutil>=2.7 in /environment/miniconda3/lib/python3.7/site-packages (from matplotlib) (2.8.2)\n",
      "Requirement already satisfied: tomli>=1.0.0 in /environment/miniconda3/lib/python3.7/site-packages (from setuptools-scm>=4->matplotlib) (1.2.2)\n",
      "Requirement already satisfied: setuptools in /environment/miniconda3/lib/python3.7/site-packages (from setuptools-scm>=4->matplotlib) (60.2.0)\n",
      "Requirement already satisfied: typing_extensions in /environment/miniconda3/lib/python3.7/site-packages (from seaborn) (4.0.1)\n",
      "Requirement already satisfied: pandas>=0.25 in /environment/miniconda3/lib/python3.7/site-packages (from seaborn) (1.3.4)\n",
      "Requirement already satisfied: pytz>=2017.3 in /environment/miniconda3/lib/python3.7/site-packages (from pandas>=0.25->seaborn) (2023.4)\n",
      "Requirement already satisfied: PyYAML>=5.4 in /environment/miniconda3/lib/python3.7/site-packages (from pytorch-lightning) (6.0)\n",
      "Collecting torchmetrics>=0.7.0\n",
      "  Downloading https://pypi.tuna.tsinghua.edu.cn/packages/fb/47/6e9f9b41c48750a45ad07cc6d43a2979bfc09e6989656aece97cc59cbef1/torchmetrics-0.11.4-py3-none-any.whl (519 kB)\n",
      "\u001b[K     |████████████████████████████████| 519 kB 102.2 MB/s eta 0:00:01\n",
      "\u001b[?25hCollecting lightning-utilities>=0.6.0.post0\n",
      "  Downloading https://pypi.tuna.tsinghua.edu.cn/packages/7d/84/fce34a549e2f795b3a0427e7dd40719dd4f00036e50ba58198a5a706eb75/lightning_utilities-0.10.1-py3-none-any.whl (24 kB)\n",
      "Requirement already satisfied: torch>=1.10.0 in /environment/miniconda3/lib/python3.7/site-packages (from pytorch-lightning) (1.10.0+cu113)\n",
      "Collecting fsspec[http]>2021.06.0\n",
      "  Downloading https://pypi.tuna.tsinghua.edu.cn/packages/bd/64/f0d369ede0ca54fdd520bdee5086dbaf0af81dac53a2ce847bd1ec6e0bf1/fsspec-2023.1.0-py3-none-any.whl (143 kB)\n",
      "\u001b[K     |████████████████████████████████| 143 kB 114.2 MB/s eta 0:00:01\n",
      "\u001b[?25hRequirement already satisfied: aiohttp!=4.0.0a0,!=4.0.0a1 in /environment/miniconda3/lib/python3.7/site-packages (from fsspec[http]>2021.06.0->pytorch-lightning) (3.7.4)\n",
      "Requirement already satisfied: requests in /environment/miniconda3/lib/python3.7/site-packages (from fsspec[http]>2021.06.0->pytorch-lightning) (2.28.2)\n",
      "Requirement already satisfied: multidict<7.0,>=4.5 in /environment/miniconda3/lib/python3.7/site-packages (from aiohttp!=4.0.0a0,!=4.0.0a1->fsspec[http]>2021.06.0->pytorch-lightning) (5.2.0)\n",
      "Requirement already satisfied: chardet<4.0,>=2.0 in /environment/miniconda3/lib/python3.7/site-packages (from aiohttp!=4.0.0a0,!=4.0.0a1->fsspec[http]>2021.06.0->pytorch-lightning) (3.0.4)\n",
      "Requirement already satisfied: attrs>=17.3.0 in /environment/miniconda3/lib/python3.7/site-packages (from aiohttp!=4.0.0a0,!=4.0.0a1->fsspec[http]>2021.06.0->pytorch-lightning) (21.2.0)\n",
      "Requirement already satisfied: async-timeout<4.0,>=3.0 in /environment/miniconda3/lib/python3.7/site-packages (from aiohttp!=4.0.0a0,!=4.0.0a1->fsspec[http]>2021.06.0->pytorch-lightning) (3.0.1)\n",
      "Requirement already satisfied: yarl<2.0,>=1.0 in /environment/miniconda3/lib/python3.7/site-packages (from aiohttp!=4.0.0a0,!=4.0.0a1->fsspec[http]>2021.06.0->pytorch-lightning) (1.7.2)\n",
      "Requirement already satisfied: importlib-metadata>=4.0.0 in /environment/miniconda3/lib/python3.7/site-packages (from lightning-utilities>=0.6.0.post0->pytorch-lightning) (4.8.2)\n",
      "Requirement already satisfied: zipp>=0.5 in /environment/miniconda3/lib/python3.7/site-packages (from importlib-metadata>=4.0.0->lightning-utilities>=0.6.0.post0->pytorch-lightning) (3.6.0)\n",
      "Requirement already satisfied: idna>=2.0 in /environment/miniconda3/lib/python3.7/site-packages (from yarl<2.0,>=1.0->aiohttp!=4.0.0a0,!=4.0.0a1->fsspec[http]>2021.06.0->pytorch-lightning) (2.10)\n",
      "Requirement already satisfied: charset-normalizer<4,>=2 in /environment/miniconda3/lib/python3.7/site-packages (from requests->fsspec[http]>2021.06.0->pytorch-lightning) (3.4.1)\n",
      "Requirement already satisfied: urllib3<1.27,>=1.21.1 in /environment/miniconda3/lib/python3.7/site-packages (from requests->fsspec[http]>2021.06.0->pytorch-lightning) (1.25.11)\n",
      "Requirement already satisfied: certifi>=2017.4.17 in /environment/miniconda3/lib/python3.7/site-packages (from requests->fsspec[http]>2021.06.0->pytorch-lightning) (2021.5.30)\n",
      "Installing collected packages: fsspec, torchmetrics, terminaltables, shapely, pycocotools, lightning-utilities, seaborn, pytorch-lightning, mmdet\n",
      "Successfully installed fsspec-2023.1.0 lightning-utilities-0.10.1 mmdet-3.3.0 pycocotools-2.0.7 pytorch-lightning-1.9.5 seaborn-0.12.2 shapely-2.0.7 terminaltables-3.1.10 torchmetrics-0.11.4\n"
     ]
    }
   ],
   "source": [
    "!pip install opencv-python pillow matplotlib seaborn tqdm pytorch-lightning 'mmdet>=3.1.0' -i https://pypi.tuna.tsinghua.edu.cn/simple\n",
    "# !pip install setuptools==59.5 prettytable"
   ]
  },
  {
   "cell_type": "markdown",
   "id": "0defb2f8-d5ab-4ee4-a66f-85cc17c221de",
   "metadata": {
    "tags": []
   },
   "source": [
    "## Downloading MMSegmentation"
   ]
  },
  {
   "cell_type": "code",
   "execution_count": 5,
   "id": "89026868-58b1-4755-aca3-ded98451e906",
   "metadata": {},
   "outputs": [],
   "source": [
    "# Delete existing mmsegmentation folder (if any)\n",
    "!rm -rf mmsegmentation"
   ]
  },
  {
   "cell_type": "code",
   "execution_count": 6,
   "id": "09c51fee-d040-46cf-8d86-c0248ab7fe84",
   "metadata": {},
   "outputs": [
    {
     "name": "stdout",
     "output_type": "stream",
     "text": [
      "正克隆到 'mmsegmentation'...\n",
      "remote: Enumerating objects: 16493, done.\u001b[K\n",
      "remote: Total 16493 (delta 0), reused 0 (delta 0), pack-reused 16493 (from 1)\u001b[K\n",
      "接收对象中: 100% (16493/16493), 43.82 MiB | 1.55 MiB/s, 完成.\n",
      "处理 delta 中: 100% (11491/11491), 完成.\n",
      "注意：正在切换到 '1471d1e529f7887659bd9f2414c990763b3f95b2'。\n",
      "\n",
      "您正处于分离头指针状态。您可以查看、做试验性的修改及提交，并且您可以在切换\n",
      "回一个分支时，丢弃在此状态下所做的提交而不对分支造成影响。\n",
      "\n",
      "如果您想要通过创建分支来保留在此状态下所做的提交，您可以通过在 switch 命令\n",
      "中添加参数 -c 来实现（现在或稍后）。例如：\n",
      "\n",
      "  git switch -c <新分支名>\n",
      "\n",
      "或者撤销此操作：\n",
      "\n",
      "  git switch -\n",
      "\n",
      "通过将配置变量 advice.detachedHead 设置为 false 来关闭此建议\n",
      "\n",
      "正在更新文件: 100% (1725/1725), 完成.\n"
     ]
    }
   ],
   "source": [
    "# Download the latest mmsegmentation source code from GitHub\n",
    "\n",
    "!git clone https://github.com/open-mmlab/mmsegmentation.git -b v1.1.2\n",
    "\n",
    "# !git clone https://github.com/open-mmlab/mmsegmentation.git -b v1.2.0"
   ]
  },
  {
   "cell_type": "code",
   "execution_count": 8,
   "id": "b6a71270-f87b-4cf3-87f0-771f45f38c28",
   "metadata": {},
   "outputs": [],
   "source": [
    "# Navigate to the main directory\n",
    "import os\n",
    "os.chdir('mmsegmentation')"
   ]
  },
  {
   "cell_type": "markdown",
   "id": "f1cd1922-e20a-459a-bf45-e826d8245d88",
   "metadata": {},
   "source": [
    "## Installing MMSegmentation"
   ]
  },
  {
   "cell_type": "code",
   "execution_count": 9,
   "id": "21e78bae-1d33-478d-8b72-5e8584f6cadf",
   "metadata": {},
   "outputs": [
    {
     "name": "stdout",
     "output_type": "stream",
     "text": [
      "Using pip 21.1.3 from /environment/miniconda3/lib/python3.7/site-packages/pip (python 3.7)\n",
      "Non-user install because site-packages writeable\n",
      "Created temporary directory: /tmp/pip-ephem-wheel-cache-6q36f1d6\n",
      "Created temporary directory: /tmp/pip-req-tracker-5_u2kxqz\n",
      "Initialized build tracking at /tmp/pip-req-tracker-5_u2kxqz\n",
      "Created build tracker: /tmp/pip-req-tracker-5_u2kxqz\n",
      "Entered build tracker: /tmp/pip-req-tracker-5_u2kxqz\n",
      "Created temporary directory: /tmp/pip-install-88hc394l\n",
      "Looking in indexes: https://pypi.tuna.tsinghua.edu.cn/simple\n",
      "Obtaining file:///home/featurize/work/CFA/mmsegmentation\n",
      "  Added file:///home/featurize/work/CFA/mmsegmentation to build tracker '/tmp/pip-req-tracker-5_u2kxqz'\n",
      "    Running setup.py (path:/home/featurize/work/CFA/mmsegmentation/setup.py) egg_info for package from file:///home/featurize/work/CFA/mmsegmentation\n",
      "    Created temporary directory: /tmp/pip-pip-egg-info-e6ke710h\n",
      "    Running command python setup.py egg_info\n",
      "    running egg_info\n",
      "    creating /tmp/pip-pip-egg-info-e6ke710h/mmsegmentation.egg-info\n",
      "    writing manifest file '/tmp/pip-pip-egg-info-e6ke710h/mmsegmentation.egg-info/SOURCES.txt'\n",
      "    warning: no files found matching 'mmaction/.mim/dataset-index.yml'\n",
      "    writing manifest file '/tmp/pip-pip-egg-info-e6ke710h/mmsegmentation.egg-info/SOURCES.txt'\n",
      "  Source in /home/featurize/work/CFA/mmsegmentation has version 1.1.2, which satisfies requirement mmsegmentation==1.1.2 from file:///home/featurize/work/CFA/mmsegmentation\n",
      "  Removed mmsegmentation==1.1.2 from file:///home/featurize/work/CFA/mmsegmentation from build tracker '/tmp/pip-req-tracker-5_u2kxqz'\n",
      "Requirement already satisfied: matplotlib in /environment/miniconda3/lib/python3.7/site-packages (from mmsegmentation==1.1.2) (3.5.0)\n",
      "Requirement already satisfied: numpy in /environment/miniconda3/lib/python3.7/site-packages (from mmsegmentation==1.1.2) (1.21.4)\n",
      "Requirement already satisfied: packaging in /environment/miniconda3/lib/python3.7/site-packages (from mmsegmentation==1.1.2) (21.3)\n",
      "1 location(s) to search for versions of prettytable:\n",
      "* https://pypi.tuna.tsinghua.edu.cn/simple/prettytable/\n",
      "Fetching project page and analyzing links: https://pypi.tuna.tsinghua.edu.cn/simple/prettytable/\n",
      "Getting page https://pypi.tuna.tsinghua.edu.cn/simple/prettytable/\n",
      "Found index url https://pypi.tuna.tsinghua.edu.cn/simple\n",
      "Looking up \"https://pypi.tuna.tsinghua.edu.cn/simple/prettytable/\" in the cache\n",
      "Request header has \"max_age\" as 0, cache bypassed\n",
      "Starting new HTTPS connection (1): pypi.tuna.tsinghua.edu.cn:443\n",
      "https://pypi.tuna.tsinghua.edu.cn:443 \"GET /simple/prettytable/ HTTP/1.1\" 200 8241\n",
      "Updating cache with response from \"https://pypi.tuna.tsinghua.edu.cn/simple/prettytable/\"\n",
      "Caching b/c date exists and max-age > 0\n",
      "  Skipping link: unsupported archive format: .egg: https://pypi.tuna.tsinghua.edu.cn/packages/aa/2d/6dda982fc3ff451d06b5840a4722b1ddd6d611c05af26241f660ea1da598/prettytable-0.1-py2.6.egg#sha256=4b78eaacea36bf7321d72bbd6c5ae5b8d9b243b7fabb9c6a5d7bce1e6360b0c5 (from https://pypi.tuna.tsinghua.edu.cn/simple/prettytable/)\n",
      "  Skipping link: unsupported archive format: .egg: https://pypi.tuna.tsinghua.edu.cn/packages/fc/96/15c68452c4b59791edf3e1f2527cde7199a4d7b6cc673bb94bc60d86dd55/prettytable-0.2-py2.6.egg#sha256=7ace8226edca26af6ddbed83c64c15f8188fe183581e2e59c68826ccbe28e1ce (from https://pypi.tuna.tsinghua.edu.cn/simple/prettytable/)\n",
      "  Skipping link: unsupported archive format: .egg: https://pypi.tuna.tsinghua.edu.cn/packages/04/d5/942a2bbaca693ff7942590f51959b8dd12a760598e4c98d95a31c4b2d991/prettytable-0.2.1-py2.6.egg#sha256=15d51ec1aca83a8b6513f3b220619063382d4ff45953f944bf86beca8a647796 (from https://pypi.tuna.tsinghua.edu.cn/simple/prettytable/)\n",
      "  Skipping link: unsupported archive format: .egg: https://pypi.tuna.tsinghua.edu.cn/packages/cb/2b/89865a1d735309404c092f6ac99dba1c5b1cb2ab832b7825d24d63312943/prettytable-0.3-py2.6.egg#sha256=04fc99a3ab8e9a6e62c5c8741d334a05229378c8c79ea3df8a8c0d09b1b4c66e (from https://pypi.tuna.tsinghua.edu.cn/simple/prettytable/)\n",
      "  Found link https://pypi.tuna.tsinghua.edu.cn/packages/56/e4/e21204d3a9757b64a79f3a9800056676f57f9c5f70245ce53b7012e31546/prettytable-0.3.tar.gz#sha256=1523ea10d9c6de00986b3b48144a8aeff734378f2be22570c90e07c207c8207a (from https://pypi.tuna.tsinghua.edu.cn/simple/prettytable/), version: 0.3\n",
      "  Found link https://pypi.tuna.tsinghua.edu.cn/packages/24/10/c9c6551e075154a7e78108cbb52db44965fe0e6800b271b76beeaffa0d15/prettytable-0.3.zip#sha256=892974c5e8fac7c8d73a5826e17777299ebf89fec03b00a98fefd9b2d2e199c5 (from https://pypi.tuna.tsinghua.edu.cn/simple/prettytable/), version: 0.3\n",
      "  Found link https://pypi.tuna.tsinghua.edu.cn/packages/30/a5/43f03a549f9235e390c9fd6a081082f9c55c38b450969136b40d7122590a/prettytable-0.4.tar.gz#sha256=29cb18d581a13fb276eac068cf3d264b2591a3c2b3499b97a6111358c4fa3ac8 (from https://pypi.tuna.tsinghua.edu.cn/simple/prettytable/), version: 0.4\n",
      "  Found link https://pypi.tuna.tsinghua.edu.cn/packages/24/42/6a030394c00c62b8a51093189fa287dff0aa598d695c36a276aa1b4f7ff8/prettytable-0.4.zip#sha256=e6c7f46b6ba3089d69ab5330ee8b4402eb14e2c54d9d29d6502ce333718b143e (from https://pypi.tuna.tsinghua.edu.cn/simple/prettytable/), version: 0.4\n",
      "  Found link https://pypi.tuna.tsinghua.edu.cn/packages/06/07/fcfe808e157da9cc442ada347532c6ef5c31c23a594e6b0ddf8f35475f31/prettytable-0.5.tar.gz#sha256=52dbc76b9fdc53f6386ce9380a93653dbff20717296605449b86a73f426b7d8b (from https://pypi.tuna.tsinghua.edu.cn/simple/prettytable/), version: 0.5\n",
      "  Found link https://pypi.tuna.tsinghua.edu.cn/packages/06/a1/fd7dfad67d52c005776458c97e2800114102e6cb9722526210868a48628c/prettytable-0.5.zip#sha256=a381ba555b8bf10e0b8e59c6c5743b30174ce77340defe880e6e30fe238c3906 (from https://pypi.tuna.tsinghua.edu.cn/simple/prettytable/), version: 0.5\n",
      "  Found link https://pypi.tuna.tsinghua.edu.cn/packages/b8/79/4808e86b6b77b0835cc973dbc737a79cb4575db5f10ea6b5d441f6b92ebd/prettytable-0.6.1.tar.bz2#sha256=7935bd8ae5c15b31703bd10eb4a0815288852dd6584e5e5eff33d1a3af6559b6 (from https://pypi.tuna.tsinghua.edu.cn/simple/prettytable/), version: 0.6.1\n",
      "  Found link https://pypi.tuna.tsinghua.edu.cn/packages/91/d4/9dee5e6d9ac63d2c6863caa8a91df650cedcb9119f1f5781b82526556eb5/prettytable-0.6.1.tar.gz#sha256=4085e520da758d6e22e115377ca5d3723f04fb186303879ab98277070444a9cb (from https://pypi.tuna.tsinghua.edu.cn/simple/prettytable/), version: 0.6.1\n",
      "  Found link https://pypi.tuna.tsinghua.edu.cn/packages/6f/84/2ab0fd71dbfd720eae77426b8901d5091d488810ba64c845d43d0faf738f/prettytable-0.6.1.zip#sha256=3f4c48d80af6d40d5a76dd1650dece386349d6df8b7b096fc8ec39fec21ceba7 (from https://pypi.tuna.tsinghua.edu.cn/simple/prettytable/), version: 0.6.1\n",
      "  Found link https://pypi.tuna.tsinghua.edu.cn/packages/f0/87/0b8f0498405bfa9ede62d00bcb0357e861afc14117791afbf07c1cd3fa86/prettytable-0.6.tar.bz2#sha256=babe57cb92d4a30185822521cbcfe40c7966db8e7de70c8e99614a9bee61182d (from https://pypi.tuna.tsinghua.edu.cn/simple/prettytable/), version: 0.6\n",
      "  Found link https://pypi.tuna.tsinghua.edu.cn/packages/dc/17/7054874b05bfb10edc956a9205b5c63c8e9b6d5d71bb7121265ab309b4df/prettytable-0.6.tar.gz#sha256=4758bfe9d2fe203e7620fb9e6493e5206861297ea089974be0fc32d4b00a780c (from https://pypi.tuna.tsinghua.edu.cn/simple/prettytable/), version: 0.6\n",
      "  Found link https://pypi.tuna.tsinghua.edu.cn/packages/dd/12/6b03e7731c51d5bfdbdea33c2107914cdc1c34bff1d03eb2853e7688f18a/prettytable-0.6.zip#sha256=cc107f07fa8373c82b84e8b12b2bd14d7ddf09558538b01b0d7ebbd83f8f427f (from https://pypi.tuna.tsinghua.edu.cn/simple/prettytable/), version: 0.6\n",
      "  Found link https://pypi.tuna.tsinghua.edu.cn/packages/ea/cc/f72eb63ea90fcca0a89eaa476e156205320b1ceefcd4ab37b8b83f5a9842/prettytable-0.7.1.tar.bz2#sha256=599bc5b4b9602e28294cf795733c889c26dd934aa7e0ee9cff9b905d4fbad188 (from https://pypi.tuna.tsinghua.edu.cn/simple/prettytable/), version: 0.7.1\n",
      "  Found link https://pypi.tuna.tsinghua.edu.cn/packages/ff/a4/6d21b97807e910d8a8523c6c20d53732a10cccee04a56e4ee80a77cca9e7/prettytable-0.7.1.tar.gz#sha256=686bda277474e5cc3cff02596d72c2d6f171170225af3dedffe78cbf958c6348 (from https://pypi.tuna.tsinghua.edu.cn/simple/prettytable/), version: 0.7.1\n",
      "  Found link https://pypi.tuna.tsinghua.edu.cn/packages/b9/a5/2bf4329f87105289a3b9bdd806baf0726f81a6b73dd429b5e6b1792cdcf2/prettytable-0.7.1.zip#sha256=0e0a9c663cdd2c084ca3090702a8449cae9e804d46ef29f0a909629467524ddb (from https://pypi.tuna.tsinghua.edu.cn/simple/prettytable/), version: 0.7.1\n",
      "  Found link https://pypi.tuna.tsinghua.edu.cn/packages/ef/30/4b0746848746ed5941f052479e7c23d2b56d174b82f4fd34a25e389831f5/prettytable-0.7.2.tar.bz2#sha256=853c116513625c738dc3ce1aee148b5b5757a86727e67eff6502c7ca59d43c36 (from https://pypi.tuna.tsinghua.edu.cn/simple/prettytable/), version: 0.7.2\n",
      "  Found link https://pypi.tuna.tsinghua.edu.cn/packages/e0/a1/36203205f77ccf98f3c6cf17cf068c972e6458d7e58509ca66da949ca347/prettytable-0.7.2.tar.gz#sha256=2d5460dc9db74a32bcc8f9f67de68b2c4f4d2f01fa3bd518764c69156d9cacd9 (from https://pypi.tuna.tsinghua.edu.cn/simple/prettytable/), version: 0.7.2\n",
      "  Found link https://pypi.tuna.tsinghua.edu.cn/packages/23/4a/9785a37ed6425918af69909af715ced0fa261e518601a0c70309a708fd08/prettytable-0.7.2.zip#sha256=a53da3b43d7a5c229b5e3ca2892ef982c46b7923b51e98f0db49956531211c4f (from https://pypi.tuna.tsinghua.edu.cn/simple/prettytable/), version: 0.7.2\n",
      "  Found link https://pypi.tuna.tsinghua.edu.cn/packages/cc/16/d40b604035012ec5ed0588098b876f5c433de66bb615db647743bcc45886/prettytable-1.0.0-py2.py3-none-any.whl#sha256=d3fa464010bf7fec9384d3ea1a1e14398a9e3f2f0c5d052219366897bf6cb19c (from https://pypi.tuna.tsinghua.edu.cn/simple/prettytable/) (requires-python:>=2.7, !=3.0.*, !=3.1.*, !=3.2.*, !=3.3.*, !=3.4.*), version: 1.0.0\n",
      "  Found link https://pypi.tuna.tsinghua.edu.cn/packages/39/c6/9e2067eef39a677367887d6e41a8d0332d9fcbb98878f52e9192ffbd748a/prettytable-1.0.0.tar.gz#sha256=98a3b74b1980e6a9392498e3a2a5406f6bd836f412843c2be23d9c88671747ac (from https://pypi.tuna.tsinghua.edu.cn/simple/prettytable/) (requires-python:>=2.7, !=3.0.*, !=3.1.*, !=3.2.*, !=3.3.*, !=3.4.*), version: 1.0.0\n",
      "  Found link https://pypi.tuna.tsinghua.edu.cn/packages/39/da/8336296a830caa495a25304e12ffb32a8c3a9d2d08ba995f066fe16152e1/prettytable-1.0.1-py2.py3-none-any.whl#sha256=e7e464e8f7ecfd9a74c67f8da35f2a7da3d827235ba0a4737bb6d4b19f4a04bb (from https://pypi.tuna.tsinghua.edu.cn/simple/prettytable/) (requires-python:>=2.7, !=3.0.*, !=3.1.*, !=3.2.*, !=3.3.*, !=3.4.*), version: 1.0.1\n",
      "  Found link https://pypi.tuna.tsinghua.edu.cn/packages/69/89/564e58a41c8593be42e2522c43adc29f8a0f387cccec6ea0038c02113f6d/prettytable-1.0.1.tar.gz#sha256=6bb7f539903cb031fecb855b615cbcac8cd245ebc6fa51c6e23ab3386db89771 (from https://pypi.tuna.tsinghua.edu.cn/simple/prettytable/) (requires-python:>=2.7, !=3.0.*, !=3.1.*, !=3.2.*, !=3.3.*, !=3.4.*), version: 1.0.1\n",
      "  Found link https://pypi.tuna.tsinghua.edu.cn/packages/94/d5/52e48f3bcf66f838d411ad85c3ac9550c2451d082623e2d4d4df7411ed5c/prettytable-2.0.0-py3-none-any.whl#sha256=5dc7fcaca227f48deacd86958ae9d7b8c31a186fcb354bbb066763f20adf3eb9 (from https://pypi.tuna.tsinghua.edu.cn/simple/prettytable/) (requires-python:>=3.6), version: 2.0.0\n",
      "  Found link https://pypi.tuna.tsinghua.edu.cn/packages/78/dc/96f8633fcd49fad2189dd57918ff410627818ff3ebe1649678d8ac2e7126/prettytable-2.0.0.tar.gz#sha256=e37acd91976fe6119172771520e58d1742c8479703489321dc1d9c85e7259922 (from https://pypi.tuna.tsinghua.edu.cn/simple/prettytable/) (requires-python:>=3.6), version: 2.0.0\n",
      "  Found link https://pypi.tuna.tsinghua.edu.cn/packages/26/1b/42b59a4038bc0442e3a0085bc0de385658131eef8a88946333f870559b09/prettytable-2.1.0-py3-none-any.whl#sha256=bb5abc72bdfae6f3cdadb04fb7726f6915af0ddb7c897a41d4ad7736d9bfd8fd (from https://pypi.tuna.tsinghua.edu.cn/simple/prettytable/) (requires-python:>=3.6), version: 2.1.0\n",
      "  Found link https://pypi.tuna.tsinghua.edu.cn/packages/d4/c6/d388b3d4992acf413d1b67101107b7f4651cc2835abd0bbd6661678eb2c1/prettytable-2.1.0.tar.gz#sha256=5882ed9092b391bb8f6e91f59bcdbd748924ff556bb7c634089d5519be87baa0 (from https://pypi.tuna.tsinghua.edu.cn/simple/prettytable/) (requires-python:>=3.6), version: 2.1.0\n",
      "  Found link https://pypi.tuna.tsinghua.edu.cn/packages/bd/b5/c09f8d237e060a9e7b5d2d1577c2a6bc49fa298a7b4aefd52146f2b9a62e/prettytable-2.2.0-py3-none-any.whl#sha256=b186f1db9c9377cb552cfa95a3b7a0feab6ec55d7cad7e0763bdcbea1e8f4687 (from https://pypi.tuna.tsinghua.edu.cn/simple/prettytable/) (requires-python:>=3.6), version: 2.2.0\n",
      "  Found link https://pypi.tuna.tsinghua.edu.cn/packages/00/8d/95441120aa870aa800f8b4c6cf650bf0739d7a41883fe81769ab593556c9/prettytable-2.2.0.tar.gz#sha256=bd81678c108e6c73d4f1e47cd4283de301faaa6ff6220bcd1d4022038c56b416 (from https://pypi.tuna.tsinghua.edu.cn/simple/prettytable/) (requires-python:>=3.6), version: 2.2.0\n",
      "  Found link https://pypi.tuna.tsinghua.edu.cn/packages/e1/77/821a93d77111aee2525841b6116287f99eeefc482f4f28765fd8d7ef1c64/prettytable-2.2.1-py3-none-any.whl#sha256=09fb2c7f93e4f93e0235f05ae199ac3f16da3a251b2cfa1c7108b34ede298fa3 (from https://pypi.tuna.tsinghua.edu.cn/simple/prettytable/) (requires-python:>=3.6), version: 2.2.1\n",
      "  Found link https://pypi.tuna.tsinghua.edu.cn/packages/81/ba/ead3c121d6e59ea4e31bba0976b28ff0369210c66901e84fad20878299e2/prettytable-2.2.1.tar.gz#sha256=6d465005573a5c058d4ca343449a5b28c21252b86afcdfa168cdc6a440f0b24c (from https://pypi.tuna.tsinghua.edu.cn/simple/prettytable/) (requires-python:>=3.6), version: 2.2.1\n",
      "  Found link https://pypi.tuna.tsinghua.edu.cn/packages/c2/98/3372c23c561cbaaa05bb60b2c3d30bfdad9ab504bf1ddefc7368b4545958/prettytable-2.3.0-py3-none-any.whl#sha256=74ba6d10555c93e2d4697751744207f6baadf77010914b2bcd8d5b3b546f84de (from https://pypi.tuna.tsinghua.edu.cn/simple/prettytable/) (requires-python:>=3.6), version: 2.3.0\n",
      "  Found link https://pypi.tuna.tsinghua.edu.cn/packages/8b/7d/a08e1331281f237cbbff594d34696a76dc8b6cea5dca895d0b7487c14309/prettytable-2.3.0.tar.gz#sha256=efd6f72d453bc0513b90f5b10fb4d085b919ca0f4c5ef033bda1dd894572ba64 (from https://pypi.tuna.tsinghua.edu.cn/simple/prettytable/) (requires-python:>=3.6), version: 2.3.0\n",
      "  Found link https://pypi.tuna.tsinghua.edu.cn/packages/de/56/554603797416219cae8fd3eae33e5e2d58a7fc73419129b62fa419a67856/prettytable-2.4.0-py3-none-any.whl#sha256=2492f29e8686bdbcce815a568bff74cb71cbb704747c3abb9c9c6cfe25f985a2 (from https://pypi.tuna.tsinghua.edu.cn/simple/prettytable/) (requires-python:>=3.6), version: 2.4.0\n",
      "  Found link https://pypi.tuna.tsinghua.edu.cn/packages/ea/36/a96f1d0f434e1658b3fde011df028efdc3d38bde563339f0fc9e8beadc59/prettytable-2.4.0.tar.gz#sha256=18e56447f636b447096977d468849c1e2d3cfa0af8e7b5acfcf83a64790c0aca (from https://pypi.tuna.tsinghua.edu.cn/simple/prettytable/) (requires-python:>=3.6), version: 2.4.0\n",
      "  Found link https://pypi.tuna.tsinghua.edu.cn/packages/9e/6d/40a24eaa03ea4418129708fd3f0f17eda73d568f16d4d4fd412566168b4c/prettytable-2.5.0-py3-none-any.whl#sha256=1411c65d21dca9eaa505ba1d041bed75a6d629ae22f5109a923f4e719cfecba4 (from https://pypi.tuna.tsinghua.edu.cn/simple/prettytable/) (requires-python:>=3.6), version: 2.5.0\n",
      "  Found link https://pypi.tuna.tsinghua.edu.cn/packages/e4/35/21bf22e21b29102bbe81730caf498dfb3e1eed2642ac71f323472ead673a/prettytable-2.5.0.tar.gz#sha256=f7da57ba63d55116d65e5acb147bfdfa60dceccabf0d607d6817ee2888a05f2c (from https://pypi.tuna.tsinghua.edu.cn/simple/prettytable/) (requires-python:>=3.6), version: 2.5.0\n",
      "  Found link https://pypi.tuna.tsinghua.edu.cn/packages/71/4f/82c03ec59c6b9b1caaa60e1e7d7713f4587a75824207e41698effc8ca5b7/prettytable-3.0.0-py3-none-any.whl#sha256=d55bc2547611bd8c40f1c69bbb8daf1b6b2c326214a265d211ec9c57fc252093 (from https://pypi.tuna.tsinghua.edu.cn/simple/prettytable/) (requires-python:>=3.7), version: 3.0.0\n",
      "  Found link https://pypi.tuna.tsinghua.edu.cn/packages/71/19/d65d4c39aa12a5630a8aa02ead8324cfaae3217146b19dd25d88d763bbdf/prettytable-3.0.0.tar.gz#sha256=69fe75d78ac8651e16dd61265b9e19626df5d630ae294fc31687aa6037b97a58 (from https://pypi.tuna.tsinghua.edu.cn/simple/prettytable/) (requires-python:>=3.7), version: 3.0.0\n",
      "  Found link https://pypi.tuna.tsinghua.edu.cn/packages/bf/f5/2ec9f14ac0a8efc292d003ff60d001ce28994a3b3109fda1d786be3415c8/prettytable-3.1.0-py3-none-any.whl#sha256=e87c6a7d9ef34230556fa0b4bb5ea465fdada6912cd90401afb0ce4bfa106448 (from https://pypi.tuna.tsinghua.edu.cn/simple/prettytable/) (requires-python:>=3.7), version: 3.1.0\n",
      "  Found link https://pypi.tuna.tsinghua.edu.cn/packages/01/55/a4a1a0f73f7665744cd5712fd6f982e5406c8e7459a0730a69299a3c1e2b/prettytable-3.1.0.tar.gz#sha256=7c2e104031614b5ba013516440241702bfaa369534069de3bacca015ffd0f27b (from https://pypi.tuna.tsinghua.edu.cn/simple/prettytable/) (requires-python:>=3.7), version: 3.1.0\n",
      "  Found link https://pypi.tuna.tsinghua.edu.cn/packages/f9/b5/7775772482999e0659def71de81cb888a822b29284ca2b7d55f37ba512bb/prettytable-3.1.1-py3-none-any.whl#sha256=f546d42de21ac14d791c91e4e9814f02271f4a5bf27b894457914be7513dc92b (from https://pypi.tuna.tsinghua.edu.cn/simple/prettytable/) (requires-python:>=3.7), version: 3.1.1\n",
      "  Found link https://pypi.tuna.tsinghua.edu.cn/packages/89/c1/3043e85bf06f252f51817dad51a37368daaf7b1c101b43cd5aa6100f09b1/prettytable-3.1.1.tar.gz#sha256=43c9e23272ca253d038ae76fe3adde89794e92e7fcab2ddf5b94b38642ef4f21 (from https://pypi.tuna.tsinghua.edu.cn/simple/prettytable/) (requires-python:>=3.7), version: 3.1.1\n",
      "  Link requires a different Python (3.7.10 not in: '>=3.8'): https://pypi.tuna.tsinghua.edu.cn/packages/3d/c4/a32f4bf44faf95accbbd5d7864ddef9e289749a8efbc3adaad4a4671779a/prettytable-3.10.0-py3-none-any.whl#sha256=6536efaf0757fdaa7d22e78b3aac3b69ea1b7200538c2c6995d649365bddab92 (from https://pypi.tuna.tsinghua.edu.cn/simple/prettytable/) (requires-python:>=3.8)\n",
      "  Link requires a different Python (3.7.10 not in: '>=3.8'): https://pypi.tuna.tsinghua.edu.cn/packages/19/d3/7cb826e085a254888d8afb4ae3f8d43859b13149ac8450b221120d4964c9/prettytable-3.10.0.tar.gz#sha256=9665594d137fb08a1117518c25551e0ede1687197cf353a4fdc78d27e1073568 (from https://pypi.tuna.tsinghua.edu.cn/simple/prettytable/) (requires-python:>=3.8)\n",
      "  Link requires a different Python (3.7.10 not in: '>=3.8'): https://pypi.tuna.tsinghua.edu.cn/packages/f3/71/22d9d8c7117b993050cf258de936d1fdda2e2a308f620e690e3b53a1d1ad/prettytable-3.10.1-py3-none-any.whl#sha256=f28207476765f0ce758dc208faad50fc92f36ee2a3074eb46794420cdd798cab (from https://pypi.tuna.tsinghua.edu.cn/simple/prettytable/) (requires-python:>=3.8)\n",
      "  Link requires a different Python (3.7.10 not in: '>=3.8'): https://pypi.tuna.tsinghua.edu.cn/packages/4b/44/ca429ee75c469c3d1910412da51d5543d58b2f6d8e1d2bcf05269139c6d1/prettytable-3.10.1.tar.gz#sha256=cfc06039df6ff73d4e6b5209127fe5a29ff4470a5fa6ab8a6e90d6751a4f1b64 (from https://pypi.tuna.tsinghua.edu.cn/simple/prettytable/) (requires-python:>=3.8)\n",
      "  Link requires a different Python (3.7.10 not in: '>=3.8'): https://pypi.tuna.tsinghua.edu.cn/packages/c5/16/ec5cc65437dce97d2814a7ba31842b0ee958d102f6e99e264c35f15c328f/prettytable-3.10.2-py3-none-any.whl#sha256=1cbfdeb4bcc73976a778a0fb33cb6d752e75396f16574dcb3e2d6332fd93c76a (from https://pypi.tuna.tsinghua.edu.cn/simple/prettytable/) (requires-python:>=3.8)\n",
      "  Link requires a different Python (3.7.10 not in: '>=3.8'): https://pypi.tuna.tsinghua.edu.cn/packages/4c/90/e1c8c06235d53c3adaae74d295669612beea5f5a2052b3184a763e7bdd62/prettytable-3.10.2.tar.gz#sha256=29ec6c34260191d42cd4928c28d56adec360ac2b1208a26c7e4f14b90cc8bc84 (from https://pypi.tuna.tsinghua.edu.cn/simple/prettytable/) (requires-python:>=3.8)\n",
      "  Link requires a different Python (3.7.10 not in: '>=3.8'): https://pypi.tuna.tsinghua.edu.cn/packages/d9/5a/bfdc26c0e19156992b1dc9de47f0b2e8992fe43db9981d814f860bdce2b3/prettytable-3.11.0-py3-none-any.whl#sha256=aa17083feb6c71da11a68b2c213b04675c4af4ce9c541762632ca3f2cb3546dd (from https://pypi.tuna.tsinghua.edu.cn/simple/prettytable/) (requires-python:>=3.8)\n",
      "  Link requires a different Python (3.7.10 not in: '>=3.8'): https://pypi.tuna.tsinghua.edu.cn/packages/28/57/0a642bec16d5736b9baaac7e830bedccd10341dc2858075c34d5aec5c8b6/prettytable-3.11.0.tar.gz#sha256=7e23ca1e68bbfd06ba8de98bf553bf3493264c96d5e8a615c0471025deeba722 (from https://pypi.tuna.tsinghua.edu.cn/simple/prettytable/) (requires-python:>=3.8)\n",
      "  Link requires a different Python (3.7.10 not in: '>=3.9'): https://pypi.tuna.tsinghua.edu.cn/packages/73/19/4bb9530512432774fdd7cb7c020851d4decbb811d95f86fd4f6a870a6d3e/prettytable-3.12.0-py3-none-any.whl#sha256=77ca0ad1c435b6e363d7e8623d7cc4fcf2cf15513bf77a1c1b2e814930ac57cc (from https://pypi.tuna.tsinghua.edu.cn/simple/prettytable/) (requires-python:>=3.9)\n",
      "  Link requires a different Python (3.7.10 not in: '>=3.9'): https://pypi.tuna.tsinghua.edu.cn/packages/3b/8a/de4dc1a6098621781c266b3fb3964009af1e9023527180cb8a3b0dd9d09e/prettytable-3.12.0.tar.gz#sha256=f04b3e1ba35747ac86e96ec33e3bb9748ce08e254dc2a1c6253945901beec804 (from https://pypi.tuna.tsinghua.edu.cn/simple/prettytable/) (requires-python:>=3.9)\n",
      "  Link requires a different Python (3.7.10 not in: '>=3.9'): https://pypi.tuna.tsinghua.edu.cn/packages/93/65/461ab13c4d877d428d046c75576c6877381580fe3cdb8fd8231e402f5cac/prettytable-3.13.0-py3-none-any.whl#sha256=d4f5817a248b77ddaa25b27007566c0a6a064308d991516b61b436ffdbb4f8e9 (from https://pypi.tuna.tsinghua.edu.cn/simple/prettytable/) (requires-python:>=3.9)\n",
      "  Link requires a different Python (3.7.10 not in: '>=3.9'): https://pypi.tuna.tsinghua.edu.cn/packages/c5/eb/ae616127eae724ff3bef04823a3eeb2633c85b769b6232af4fcc98c7c9d7/prettytable-3.13.0.tar.gz#sha256=30e1a097a7acb075b5c488ffe01195349b37009c2d43ca7fa8b5f6a61daace5b (from https://pypi.tuna.tsinghua.edu.cn/simple/prettytable/) (requires-python:>=3.9)\n",
      "  Link requires a different Python (3.7.10 not in: '>=3.9'): https://pypi.tuna.tsinghua.edu.cn/packages/5b/a2/fa0679e7a64b564074a8aa680c664ba8e6770166034f035a22ce74e55ae5/prettytable-3.14.0-py3-none-any.whl#sha256=61d5c68f04a94acc73c7aac64f0f380f5bed4d2959d59edc6e4cbb7a0e7b55c4 (from https://pypi.tuna.tsinghua.edu.cn/simple/prettytable/) (requires-python:>=3.9)\n",
      "  Link requires a different Python (3.7.10 not in: '>=3.9'): https://pypi.tuna.tsinghua.edu.cn/packages/02/7b/18bb59d7c3a4ac9ac7d986cfe49dd3c2e5f5ae3e65ca3db8816764e0c1df/prettytable-3.14.0.tar.gz#sha256=b804b8d51db23959b96b329094debdbbdf10c8c3aa75958c5988cfd7f78501dd (from https://pypi.tuna.tsinghua.edu.cn/simple/prettytable/) (requires-python:>=3.9)\n",
      "  Link requires a different Python (3.7.10 not in: '>=3.9'): https://pypi.tuna.tsinghua.edu.cn/packages/54/ac/6ec0a0b2085417b8523a539444118c6e217a8c54cb6b57be77b8a2fb99ac/prettytable-3.15.0-py3-none-any.whl#sha256=49429c06e6721dcca25f08ede3e9401abe2afd35d87e4336a72ee89b09a53c68 (from https://pypi.tuna.tsinghua.edu.cn/simple/prettytable/) (requires-python:>=3.9)\n",
      "  Link requires a different Python (3.7.10 not in: '>=3.9'): https://pypi.tuna.tsinghua.edu.cn/packages/7b/68/0668d381a618c9c586f70107bf32d2db1e4a14a458872887ac44056946a3/prettytable-3.15.0.tar.gz#sha256=c72dff9c1ede57f9a511fddc8f10af3c8a86dd293f5adf75825a5e6bf81ff73b (from https://pypi.tuna.tsinghua.edu.cn/simple/prettytable/) (requires-python:>=3.9)\n",
      "  Link requires a different Python (3.7.10 not in: '>=3.9'): https://pypi.tuna.tsinghua.edu.cn/packages/8c/37/f687efd8760c183787ff16a61ec9e3515355178271f33fd7c14bf42e338c/prettytable-3.15.1-py3-none-any.whl#sha256=1bb0da7437e904ec879d2998aded19abc722719aa3d384a7faa44dcbe4aeb2e9 (from https://pypi.tuna.tsinghua.edu.cn/simple/prettytable/) (requires-python:>=3.9)\n",
      "  Link requires a different Python (3.7.10 not in: '>=3.9'): https://pypi.tuna.tsinghua.edu.cn/packages/38/95/78080e58efbdde46cda8d4498737bf9687839ed4a9744b068cc730a073ed/prettytable-3.15.1.tar.gz#sha256=f0edb38060cb9161b2417939bfd5cd9877da73388fb19d1e8bf7987e8558896e (from https://pypi.tuna.tsinghua.edu.cn/simple/prettytable/) (requires-python:>=3.9)\n",
      "  Link requires a different Python (3.7.10 not in: '>=3.9'): https://pypi.tuna.tsinghua.edu.cn/packages/02/c7/5613524e606ea1688b3bdbf48aa64bafb6d0a4ac3750274c43b6158a390f/prettytable-3.16.0-py3-none-any.whl#sha256=b5eccfabb82222f5aa46b798ff02a8452cf530a352c31bddfa29be41242863aa (from https://pypi.tuna.tsinghua.edu.cn/simple/prettytable/) (requires-python:>=3.9)\n",
      "  Link requires a different Python (3.7.10 not in: '>=3.9'): https://pypi.tuna.tsinghua.edu.cn/packages/99/b1/85e18ac92afd08c533603e3393977b6bc1443043115a47bb094f3b98f94f/prettytable-3.16.0.tar.gz#sha256=3c64b31719d961bf69c9a7e03d0c1e477320906a98da63952bc6698d6164ff57 (from https://pypi.tuna.tsinghua.edu.cn/simple/prettytable/) (requires-python:>=3.9)\n",
      "  Found link https://pypi.tuna.tsinghua.edu.cn/packages/96/53/91638391af5a68d27402b920ccc3fdfae51dd3e333476b414393d4478a70/prettytable-3.2.0-py3-none-any.whl#sha256=f6c5ec87c3ef9df5bba1d32d826c1b862ecad0344dddb6082e3562caf71fe085 (from https://pypi.tuna.tsinghua.edu.cn/simple/prettytable/) (requires-python:>=3.7), version: 3.2.0\n",
      "  Found link https://pypi.tuna.tsinghua.edu.cn/packages/cb/7d/7e6bc4bd4abc49e9f4f5c4773bb43d1615e4b476d108d1b527318b9c6521/prettytable-3.2.0.tar.gz#sha256=ae7d96c64100543dc61662b40a28f3b03c0f94a503ed121c6fca2782c5816f81 (from https://pypi.tuna.tsinghua.edu.cn/simple/prettytable/) (requires-python:>=3.7), version: 3.2.0\n",
      "  Found link https://pypi.tuna.tsinghua.edu.cn/packages/5f/ab/64371af206988d7b15c8112c9c277b8eb4618397c01471e52b902a17f59c/prettytable-3.3.0-py3-none-any.whl#sha256=d1c34d72ea2c0ffd6ce5958e71c428eb21a3d40bf3133afe319b24aeed5af407 (from https://pypi.tuna.tsinghua.edu.cn/simple/prettytable/) (requires-python:>=3.7), version: 3.3.0\n",
      "  Found link https://pypi.tuna.tsinghua.edu.cn/packages/10/88/ef38a6e4bc375600d3031e405a8d3b3dc4a154fccffd21d5d06e66c96230/prettytable-3.3.0.tar.gz#sha256=118eb54fd2794049b810893653b20952349df6d3bc1764e7facd8a18064fa9b0 (from https://pypi.tuna.tsinghua.edu.cn/simple/prettytable/) (requires-python:>=3.7), version: 3.3.0\n",
      "  Found link https://pypi.tuna.tsinghua.edu.cn/packages/a7/b7/691a836347df9610c2264e7e60461f9991ca36ce9f2179a38ebc9e4a2682/prettytable-3.4.0-py3-none-any.whl#sha256=8ea12e615fee421090ca3954c2e006280f7ecdf4adf940dbc1c6ec014d4eca9d (from https://pypi.tuna.tsinghua.edu.cn/simple/prettytable/) (requires-python:>=3.7), version: 3.4.0\n",
      "  Found link https://pypi.tuna.tsinghua.edu.cn/packages/63/42/b8b24cfe616a8217515011fc54ed37b45077cd4467230b3a0132166696a1/prettytable-3.4.0.tar.gz#sha256=d16747b5108c252bf065ea1cd239aab3c87bd8bb10a9f7973c9f192bbcfed26e (from https://pypi.tuna.tsinghua.edu.cn/simple/prettytable/) (requires-python:>=3.7), version: 3.4.0\n",
      "  Found link https://pypi.tuna.tsinghua.edu.cn/packages/5b/c9/4e7dbae5054c5bbaed9e7aa7a78e1ceff003d0b0699318e5d6993a0a10c9/prettytable-3.4.1-py3-none-any.whl#sha256=0d23ff81e165077d93367e1379d97893c7a51541483d25bad45b9647660ef06f (from https://pypi.tuna.tsinghua.edu.cn/simple/prettytable/) (requires-python:>=3.7), version: 3.4.1\n",
      "  Found link https://pypi.tuna.tsinghua.edu.cn/packages/a5/aa/0852b0ee91587a766fbc872f398ed26366c7bf26373d5feb974bebbde8d2/prettytable-3.4.1.tar.gz#sha256=7d7dd84d0b206f2daac4471a72f299d6907f34516064feb2838e333a4e2567bd (from https://pypi.tuna.tsinghua.edu.cn/simple/prettytable/) (requires-python:>=3.7), version: 3.4.1\n",
      "  Found link https://pypi.tuna.tsinghua.edu.cn/packages/fa/4c/9b2bbb92a14a09ed929afa40282c088d8e50f79303eb3873fbeba1d96e89/prettytable-3.5.0-py3-none-any.whl#sha256=fe391c3b545800028edf5dbb6a5360893feb398367fcc1cf8d7a5b29ce5c59a1 (from https://pypi.tuna.tsinghua.edu.cn/simple/prettytable/) (requires-python:>=3.7), version: 3.5.0\n",
      "  Found link https://pypi.tuna.tsinghua.edu.cn/packages/51/d8/f4739a1971029c00fdb97c9ea4abbfb20ea041f6aa7613343f12a468e217/prettytable-3.5.0.tar.gz#sha256=52f682ba4efe29dccb38ff0fe5bac8a23007d0780ff92a8b85af64bc4fc74d72 (from https://pypi.tuna.tsinghua.edu.cn/simple/prettytable/) (requires-python:>=3.7), version: 3.5.0\n",
      "  Found link https://pypi.tuna.tsinghua.edu.cn/packages/51/fd/52b6d8a28f8dabf05e5fcbb5ef639d62326a5bccfa93b98fb7e54d414509/prettytable-3.6.0-py3-none-any.whl#sha256=3b767129491767a3a5108e6f305cbaa650f8020a7db5dfe994a2df7ef7bad0fe (from https://pypi.tuna.tsinghua.edu.cn/simple/prettytable/) (requires-python:>=3.7), version: 3.6.0\n",
      "  Found link https://pypi.tuna.tsinghua.edu.cn/packages/ba/b6/8e78337766d4c324ac22cb887ecc19487531f508dbf17d922b91492d55bb/prettytable-3.6.0.tar.gz#sha256=2e0026af955b4ea67b22122f310b90eae890738c08cb0458693a49b6221530ac (from https://pypi.tuna.tsinghua.edu.cn/simple/prettytable/) (requires-python:>=3.7), version: 3.6.0\n",
      "  Found link https://pypi.tuna.tsinghua.edu.cn/packages/7a/cd/bec5850e23eb005c6fe30fe4c26bafd9a07b3d2524771f22a0fa01270078/prettytable-3.7.0-py3-none-any.whl#sha256=f4aaf2ed6e6062a82fd2e6e5289bbbe705ec2788fe401a3a1f62a1cea55526d2 (from https://pypi.tuna.tsinghua.edu.cn/simple/prettytable/) (requires-python:>=3.7), version: 3.7.0\n",
      "  Found link https://pypi.tuna.tsinghua.edu.cn/packages/95/8d/f6b4448e386eb1382a99cbceabe3899f3aa431992582cc90496843548303/prettytable-3.7.0.tar.gz#sha256=ef8334ee40b7ec721651fc4d37ecc7bb2ef55fde5098d994438f0dfdaa385c0c (from https://pypi.tuna.tsinghua.edu.cn/simple/prettytable/) (requires-python:>=3.7), version: 3.7.0\n",
      "  Link requires a different Python (3.7.10 not in: '>=3.8'): https://pypi.tuna.tsinghua.edu.cn/packages/25/1e/4c284713b092ec384fad4399452f43f6446ad9aabc9c0b3c3c0920cc53b6/prettytable-3.8.0-py3-none-any.whl#sha256=03481bca25ae0c28958c8cd6ac5165c159ce89f7ccde04d5c899b24b68bb13b7 (from https://pypi.tuna.tsinghua.edu.cn/simple/prettytable/) (requires-python:>=3.8)\n",
      "  Link requires a different Python (3.7.10 not in: '>=3.8'): https://pypi.tuna.tsinghua.edu.cn/packages/18/fa/82e719efc465238383f099c08b5284b974f5002dbe12050bcbbc912366eb/prettytable-3.8.0.tar.gz#sha256=031eae6a9102017e8c7c7906460d150b7ed78b20fd1d8c8be4edaf88556c07ce (from https://pypi.tuna.tsinghua.edu.cn/simple/prettytable/) (requires-python:>=3.8)\n",
      "  Link requires a different Python (3.7.10 not in: '>=3.8'): https://pypi.tuna.tsinghua.edu.cn/packages/4d/81/316b6a55a0d1f327d04cc7b0ba9d04058cb62de6c3a4d4b0df280cbe3b0b/prettytable-3.9.0-py3-none-any.whl#sha256=a71292ab7769a5de274b146b276ce938786f56c31cf7cea88b6f3775d82fe8c8 (from https://pypi.tuna.tsinghua.edu.cn/simple/prettytable/) (requires-python:>=3.8)\n",
      "  Link requires a different Python (3.7.10 not in: '>=3.8'): https://pypi.tuna.tsinghua.edu.cn/packages/e1/c0/5e9c4d2a643a00a6f67578ef35485173de273a4567279e4f0c200c01386b/prettytable-3.9.0.tar.gz#sha256=f4ed94803c23073a90620b201965e5dc0bccf1760b7a7eaf3158cab8aaffdf34 (from https://pypi.tuna.tsinghua.edu.cn/simple/prettytable/) (requires-python:>=3.8)\n",
      "Skipping link: not a file: https://pypi.tuna.tsinghua.edu.cn/simple/prettytable/\n",
      "Given no hashes to check 56 links for project 'prettytable': discarding no candidates\n",
      "Collecting prettytable\n",
      "  Created temporary directory: /tmp/pip-unpack-bnn0g834\n",
      "  Looking up \"https://pypi.tuna.tsinghua.edu.cn/packages/7a/cd/bec5850e23eb005c6fe30fe4c26bafd9a07b3d2524771f22a0fa01270078/prettytable-3.7.0-py3-none-any.whl\" in the cache\n",
      "  No cache entry available\n",
      "  https://pypi.tuna.tsinghua.edu.cn:443 \"GET /packages/7a/cd/bec5850e23eb005c6fe30fe4c26bafd9a07b3d2524771f22a0fa01270078/prettytable-3.7.0-py3-none-any.whl HTTP/1.1\" 200 27508\n",
      "  Downloading https://pypi.tuna.tsinghua.edu.cn/packages/7a/cd/bec5850e23eb005c6fe30fe4c26bafd9a07b3d2524771f22a0fa01270078/prettytable-3.7.0-py3-none-any.whl (27 kB)\n",
      "  Updating cache with response from \"https://pypi.tuna.tsinghua.edu.cn/packages/7a/cd/bec5850e23eb005c6fe30fe4c26bafd9a07b3d2524771f22a0fa01270078/prettytable-3.7.0-py3-none-any.whl\"\n",
      "  Added prettytable from https://pypi.tuna.tsinghua.edu.cn/packages/7a/cd/bec5850e23eb005c6fe30fe4c26bafd9a07b3d2524771f22a0fa01270078/prettytable-3.7.0-py3-none-any.whl#sha256=f4aaf2ed6e6062a82fd2e6e5289bbbe705ec2788fe401a3a1f62a1cea55526d2 (from mmsegmentation==1.1.2) to build tracker '/tmp/pip-req-tracker-5_u2kxqz'\n",
      "  Removed prettytable from https://pypi.tuna.tsinghua.edu.cn/packages/7a/cd/bec5850e23eb005c6fe30fe4c26bafd9a07b3d2524771f22a0fa01270078/prettytable-3.7.0-py3-none-any.whl#sha256=f4aaf2ed6e6062a82fd2e6e5289bbbe705ec2788fe401a3a1f62a1cea55526d2 (from mmsegmentation==1.1.2) from build tracker '/tmp/pip-req-tracker-5_u2kxqz'\n",
      "Requirement already satisfied: scipy in /environment/miniconda3/lib/python3.7/site-packages (from mmsegmentation==1.1.2) (1.7.3)\n",
      "Requirement already satisfied: pillow>=6.2.0 in /environment/miniconda3/lib/python3.7/site-packages (from matplotlib->mmsegmentation==1.1.2) (8.4.0)\n",
      "Requirement already satisfied: kiwisolver>=1.0.1 in /environment/miniconda3/lib/python3.7/site-packages (from matplotlib->mmsegmentation==1.1.2) (1.3.2)\n",
      "Requirement already satisfied: fonttools>=4.22.0 in /environment/miniconda3/lib/python3.7/site-packages (from matplotlib->mmsegmentation==1.1.2) (4.28.3)\n",
      "Requirement already satisfied: cycler>=0.10 in /environment/miniconda3/lib/python3.7/site-packages (from matplotlib->mmsegmentation==1.1.2) (0.11.0)\n",
      "Requirement already satisfied: setuptools-scm>=4 in /environment/miniconda3/lib/python3.7/site-packages (from matplotlib->mmsegmentation==1.1.2) (6.3.2)\n",
      "Requirement already satisfied: pyparsing>=2.2.1 in /environment/miniconda3/lib/python3.7/site-packages (from matplotlib->mmsegmentation==1.1.2) (3.0.6)\n",
      "Requirement already satisfied: python-dateutil>=2.7 in /environment/miniconda3/lib/python3.7/site-packages (from matplotlib->mmsegmentation==1.1.2) (2.8.2)\n",
      "Requirement already satisfied: six>=1.5 in /environment/miniconda3/lib/python3.7/site-packages (from python-dateutil>=2.7->matplotlib->mmsegmentation==1.1.2) (1.16.0)\n",
      "Requirement already satisfied: tomli>=1.0.0 in /environment/miniconda3/lib/python3.7/site-packages (from setuptools-scm>=4->matplotlib->mmsegmentation==1.1.2) (1.2.2)\n",
      "Requirement already satisfied: setuptools in /environment/miniconda3/lib/python3.7/site-packages (from setuptools-scm>=4->matplotlib->mmsegmentation==1.1.2) (60.2.0)\n",
      "Requirement already satisfied: importlib-metadata in /environment/miniconda3/lib/python3.7/site-packages (from prettytable->mmsegmentation==1.1.2) (4.8.2)\n",
      "Requirement already satisfied: wcwidth in /environment/miniconda3/lib/python3.7/site-packages (from prettytable->mmsegmentation==1.1.2) (0.2.5)\n",
      "Requirement already satisfied: zipp>=0.5 in /environment/miniconda3/lib/python3.7/site-packages (from importlib-metadata->prettytable->mmsegmentation==1.1.2) (3.6.0)\n",
      "Requirement already satisfied: typing-extensions>=3.6.4 in /environment/miniconda3/lib/python3.7/site-packages (from importlib-metadata->prettytable->mmsegmentation==1.1.2) (4.0.1)\n",
      "Created temporary directory: /tmp/pip-unpack-_wbs095e\n",
      "Installing collected packages: prettytable, mmsegmentation\n",
      "\n",
      "  Running setup.py develop for mmsegmentation\n",
      "    Running command /environment/miniconda3/bin/python -c 'import io, os, sys, setuptools, tokenize; sys.argv[0] = '\"'\"'/home/featurize/work/CFA/mmsegmentation/setup.py'\"'\"'; __file__='\"'\"'/home/featurize/work/CFA/mmsegmentation/setup.py'\"'\"';f = getattr(tokenize, '\"'\"'open'\"'\"', open)(__file__) if os.path.exists(__file__) else io.StringIO('\"'\"'from setuptools import setup; setup()'\"'\"');code = f.read().replace('\"'\"'\\r\\n'\"'\"', '\"'\"'\\n'\"'\"');f.close();exec(compile(code, __file__, '\"'\"'exec'\"'\"'))' develop --no-deps\n",
      "    running develop\n",
      "    /environment/miniconda3/lib/python3.7/site-packages/setuptools/command/easy_install.py:159: EasyInstallDeprecationWarning: easy_install command is deprecated. Use build and pip and other standards-based tools.\n",
      "      EasyInstallDeprecationWarning,\n",
      "    /environment/miniconda3/lib/python3.7/site-packages/setuptools/command/install.py:37: SetuptoolsDeprecationWarning: setup.py install is deprecated. Use build and pip and other standards-based tools.\n",
      "      setuptools.SetuptoolsDeprecationWarning,\n",
      "    running egg_info\n",
      "    warning: no files found matching 'mmaction/.mim/dataset-index.yml'\n",
      "    writing manifest file 'mmsegmentation.egg-info/SOURCES.txt'\n",
      "    running build_ext\n",
      "Successfully installed mmsegmentation-1.1.2 prettytable-3.7.0\n",
      "Removed build tracker: '/tmp/pip-req-tracker-5_u2kxqz'\n"
     ]
    }
   ],
   "source": [
    "!pip install -v -e ."
   ]
  },
  {
   "cell_type": "markdown",
   "id": "a828bfe4-82e5-497a-9bda-cb9837df2cb3",
   "metadata": {},
   "source": [
    "## Downloading Pre-trained Model Weights and Video Materials"
   ]
  },
  {
   "cell_type": "code",
   "execution_count": 9,
   "id": "5aac1d0c-dbf5-478c-ab80-7e2aa0ab0f01",
   "metadata": {},
   "outputs": [],
   "source": [
    "import os\n",
    "\n",
    "# Create a checkpoint folder for storing pre-trained model weight files\n",
    "os.mkdir('checkpoint')\n",
    "\n",
    "# Create an outputs folder for storing prediction results\n",
    "os.mkdir('outputs')\n",
    "\n",
    "# Create a data folder for storing image and video materials\n",
    "os.mkdir('data')\n",
    "\n",
    "# Create a charts folder for storing generated charts\n",
    "os.mkdir('charts')\n",
    "\n",
    "# Create a Zihao-Configs folder for storing custom semantic segmentation model config files\n",
    "os.mkdir('Zihao-Configs')"
   ]
  },
  {
   "cell_type": "markdown",
   "id": "fa97e1da-f245-4d32-892d-dec07a6b2c16",
   "metadata": {},
   "source": [
    "## Checking Installation Success"
   ]
  },
  {
   "cell_type": "code",
   "execution_count": 10,
   "id": "424fca02-13cc-493f-8833-ec63900f02d3",
   "metadata": {},
   "outputs": [
    {
     "name": "stdout",
     "output_type": "stream",
     "text": [
      "PyTorch version 1.10.0+cu113\n",
      "CUDA available True\n"
     ]
    }
   ],
   "source": [
    "# Checking PyTorch\n",
    "import torch, torchvision\n",
    "print('PyTorch version', torch.__version__)\n",
    "print('CUDA available',torch.cuda.is_available())"
   ]
  },
  {
   "cell_type": "code",
   "execution_count": 11,
   "id": "96a6e738-d9d3-4e9f-a053-15bf2f29d43b",
   "metadata": {},
   "outputs": [
    {
     "name": "stdout",
     "output_type": "stream",
     "text": [
      "MMCV version 2.0.0\n",
      "CUDA version 11.3\n",
      "Compiler version GCC 9.3\n"
     ]
    }
   ],
   "source": [
    "# Checking mmcv\n",
    "import mmcv\n",
    "from mmcv.ops import get_compiling_cuda_version, get_compiler_version\n",
    "print('MMCV version', mmcv.__version__)\n",
    "print('CUDA version', get_compiling_cuda_version())\n",
    "print('Compiler version', get_compiler_version())"
   ]
  },
  {
   "cell_type": "code",
   "execution_count": 12,
   "id": "dae8b28c-fa1f-4911-ba27-50ed745e9679",
   "metadata": {},
   "outputs": [
    {
     "name": "stdout",
     "output_type": "stream",
     "text": [
      "mmsegmentation version 1.1.2\n"
     ]
    }
   ],
   "source": [
    "# Checking mmsegmentation\n",
    "import mmseg\n",
    "from mmseg.utils import register_all_modules\n",
    "from mmseg.apis import inference_model, init_model\n",
    "print('mmsegmentation version', mmseg.__version__)"
   ]
  },
  {
   "cell_type": "markdown",
   "id": "6f89f196-6f70-46a5-9715-ee4755717c13",
   "metadata": {},
   "source": [
    "No errors indicates successful installation."
   ]
  }
 ],
 "metadata": {
  "kernelspec": {
   "display_name": "Python 3 (ipykernel)",
   "language": "python",
   "name": "python3"
  },
  "language_info": {
   "codemirror_mode": {
    "name": "ipython",
    "version": 3
   },
   "file_extension": ".py",
   "mimetype": "text/x-python",
   "name": "python",
   "nbconvert_exporter": "python",
   "pygments_lexer": "ipython3",
   "version": "3.7.10"
  }
 },
 "nbformat": 4,
 "nbformat_minor": 5
}
