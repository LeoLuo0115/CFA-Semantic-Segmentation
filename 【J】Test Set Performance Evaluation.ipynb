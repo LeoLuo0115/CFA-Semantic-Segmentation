{
 "cells": [
  {
   "cell_type": "markdown",
   "id": "a4689c4e-20bd-4b01-88f3-6274db8a330d",
   "metadata": {},
   "source": [
    "# Test Set Performance Evaluation"
   ]
  },
  {
   "cell_type": "markdown",
   "id": "1657def2-f6e3-4985-8109-acc9ab878c89",
   "metadata": {},
   "source": [
    "## Enter the MMSegmentation home directory"
   ]
  },
  {
   "cell_type": "code",
   "execution_count": 1,
   "id": "c41f92c1-f0f0-49ae-9791-6d1ee72e5b13",
   "metadata": {},
   "outputs": [],
   "source": [
    "import os\n",
    "os.chdir('mmsegmentation')"
   ]
  },
  {
   "cell_type": "code",
   "execution_count": 2,
   "id": "da145429-f9a0-4fcf-a5db-73d736e2cbb8",
   "metadata": {},
   "outputs": [
    {
     "data": {
      "text/plain": [
       "'/home/featurize/work/CFA/mmsegmentation'"
      ]
     },
     "execution_count": 2,
     "metadata": {},
     "output_type": "execute_result"
    }
   ],
   "source": [
    "os.getcwd()"
   ]
  },
  {
   "cell_type": "markdown",
   "id": "e1139095-730d-4560-ab90-207383879bcd",
   "metadata": {},
   "source": [
    "## KNet / FastSCNN - Test Set Accuracy Metrics"
   ]
  },
  {
   "cell_type": "code",
   "execution_count": 6,
   "id": "dacf795d-1e84-44e0-a124-1e0e0eb3aeec",
   "metadata": {},
   "outputs": [],
   "source": [
    "# FastSCNN\n",
    "# !python tools/test.py Zihao-Configs/ZihaoDataset_FastSCNN_20230818.py checkpoint/FastSCNN_best_mIoU_iter_23000.pth"
   ]
  },
  {
   "cell_type": "code",
   "execution_count": 5,
   "id": "f2857ef0-e7aa-4f9b-9a54-f14bd7ccb412",
   "metadata": {},
   "outputs": [],
   "source": [
    "# KNet\n",
    "# !python tools/test.py Zihao-Configs/ZihaoDataset_KNet_20230818.py checkpoint/KNet_best_mIoU_iter_14000.pth"
   ]
  },
  {
   "cell_type": "markdown",
   "id": "858c78af-5300-4e8f-a722-31692058a63a",
   "metadata": {
    "tags": []
   },
   "source": [
    "## KNet\n",
    "\n",
    "```shell\n",
    "+------------+-------+-------+-------+--------+-----------+--------+\n",
    "|   Class    |  IoU  |  Acc  |  Dice | Fscore | Precision | Recall |\n",
    "+------------+-------+-------+-------+--------+-----------+--------+\n",
    "| background | 97.08 | 98.49 | 98.52 | 98.52  |   98.55   | 98.49  |\n",
    "|  sandwich  | 94.53 | 97.61 | 97.19 | 97.19  |   96.77   | 97.61  |\n",
    "|   fries    | 93.78 | 96.64 | 96.79 | 96.79  |   96.94   | 96.64  |\n",
    "|   drink    |  96.3 | 97.91 | 98.11 | 98.11  |   98.31   | 97.91  |\n",
    "+------------+-------+-------+-------+--------+-----------+--------+\n",
    "04/08 12:24:32 - mmengine - INFO - Iter(test) [13/13]    aAcc: 98.0400  mIoU: 95.4200  mAcc: 97.6600  mDice: 97.6500  mFscore: 97.6500  mPrecision: 97.6400  mRecall: 97.6600  data_time: 0.0208  time: 1.8185\n",
    "```"
   ]
  },
  {
   "cell_type": "markdown",
   "id": "aafebe0e-3990-4b86-a983-bb5c64f80142",
   "metadata": {},
   "source": [
    "## Fast-SCNN\n",
    "```shell\n",
    "+------------+-------+-------+-------+--------+-----------+--------+\n",
    "|   Class    |  IoU  |  Acc  |  Dice | Fscore | Precision | Recall |\n",
    "+------------+-------+-------+-------+--------+-----------+--------+\n",
    "| background | 90.66 | 97.17 |  95.1 |  95.1  |   93.12   | 97.17  |\n",
    "|  sandwich  | 90.27 | 94.21 | 94.89 | 94.89  |   95.58   | 94.21  |\n",
    "|   fries    | 71.29 | 76.74 | 83.24 | 83.24  |   90.94   | 76.74  |\n",
    "|   drink    | 86.72 | 92.26 | 92.89 | 92.89  |   93.52   | 92.26  |\n",
    "+------------+-------+-------+-------+--------+-----------+--------+\n",
    "04/08 14:53:58 - mmengine - INFO - Iter(test) [13/13]    aAcc: 93.1900  mIoU: 84.7300  mAcc: 90.1000  mDice: 91.5300  mFscore: 91.5300  mPrecision: 93.2900  mRecall: 90.1000  data_time: 0.0278  time: 0.4273\n",
    "```"
   ]
  },
  {
   "cell_type": "markdown",
   "id": "9ee1dfd6-8a6b-48ec-aaa1-4fccf4dde1d2",
   "metadata": {},
   "source": [
    "## Note: Comparing performance metrics is only meaningful on the same benchmark"
   ]
  }
 ],
 "metadata": {
  "kernelspec": {
   "display_name": "Python 3 (ipykernel)",
   "language": "python",
   "name": "python3"
  },
  "language_info": {
   "codemirror_mode": {
    "name": "ipython",
    "version": 3
   },
   "file_extension": ".py",
   "mimetype": "text/x-python",
   "name": "python",
   "nbconvert_exporter": "python",
   "pygments_lexer": "ipython3",
   "version": "3.7.10"
  }
 },
 "nbformat": 4,
 "nbformat_minor": 5
}
