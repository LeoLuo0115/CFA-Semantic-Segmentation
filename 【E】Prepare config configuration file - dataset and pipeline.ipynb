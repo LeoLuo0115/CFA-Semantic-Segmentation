{
 "cells": [
  {
   "cell_type": "markdown",
   "id": "c000cb3c-bf01-4635-a216-d0a25291943e",
   "metadata": {},
   "source": [
    "# Prepare config configuration file - dataset and pipeline\n",
    "You will have to modify the py file and pipeline file to fit your dataset"
   ]
  },
  {
   "cell_type": "markdown",
   "id": "56aefedc-eb8a-4f34-8944-c6f26bb4c5e0",
   "metadata": {
    "tags": []
   },
   "source": [
    "## Enter the MMSegmentation home directory"
   ]
  },
  {
   "cell_type": "code",
   "execution_count": 1,
   "id": "426b584c-a598-416b-8eb7-cffcdafa3312",
   "metadata": {
    "tags": []
   },
   "outputs": [],
   "source": [
    "import os\n",
    "os.chdir('mmsegmentation')"
   ]
  },
  {
   "cell_type": "code",
   "execution_count": 2,
   "id": "613ee846-4059-4509-b063-5b443ad49305",
   "metadata": {},
   "outputs": [
    {
     "data": {
      "text/plain": [
       "'/home/featurize/work/CFA/mmsegmentation'"
      ]
     },
     "execution_count": 2,
     "metadata": {},
     "output_type": "execute_result"
    }
   ],
   "source": [
    "os.getcwd()"
   ]
  },
  {
   "cell_type": "markdown",
   "id": "16ea93b6-d61b-4478-ba32-a65a7be24a76",
   "metadata": {},
   "source": [
    "## I: Dataset Profiles \n",
    "\n",
    "Define dataset classes (class names and color schemes)"
   ]
  },
  {
   "cell_type": "code",
   "execution_count": null,
   "id": "54a949e3-a33f-4b32-8fd4-ae893c07cc8b",
   "metadata": {},
   "outputs": [],
   "source": [
    "!rm -rf mmseg/datasets/ZihaoDataset.py # Remove the original file\n",
    "!wget https://zihao-openmmlab.obs.cn-east-3.myhuaweicloud.com/20230130-mmseg/watermelon/configs/ZihaoDataset.py -P mmseg/datasets\n"
   ]
  },
  {
   "cell_type": "markdown",
   "id": "92604575-37e8-47cb-983f-ff9e636397b1",
   "metadata": {},
   "source": [
    "## II: Registering the dataset class \n",
    "\n",
    "Register the `ZihaoDataset` dataset class just defined in `mmseg/datasets/__init__.py`"
   ]
  },
  {
   "cell_type": "code",
   "execution_count": null,
   "id": "b3a64f85-32ed-44e8-b166-98fb9874c67b",
   "metadata": {},
   "outputs": [],
   "source": [
    "!rm -rf mmseg/datasets/__init__.py\n",
    "!wget https://zihao-openmmlab.obs.cn-east-3.myhuaweicloud.com/20230130-mmseg/watermelon/configs/__init__.py -P mmseg/datasets"
   ]
  },
  {
   "cell_type": "markdown",
   "id": "9fc5a127-4fc6-4834-a991-b19e9ce62fb9",
   "metadata": {},
   "source": [
    "## III: pipeline configuration file \n",
    "\n",
    "Dataset path, preprocessing, postprocessing, DataLoader, test set evaluation metrics"
   ]
  },
  {
   "cell_type": "code",
   "execution_count": null,
   "id": "563163df-d556-4a56-b84d-28f9f359b01a",
   "metadata": {},
   "outputs": [],
   "source": [
    "!rm -rf configs/_base_/datasets/ZihaoDataset_pipeline.py\n",
    "!wget https://zihao-openmmlab.obs.cn-east-3.myhuaweicloud.com/20230130-mmseg/watermelon/configs/ZihaoDataset_pipeline.py -P configs/_base_/datasets"
   ]
  }
 ],
 "metadata": {
  "kernelspec": {
   "display_name": "Python 3 (ipykernel)",
   "language": "python",
   "name": "python3"
  },
  "language_info": {
   "codemirror_mode": {
    "name": "ipython",
    "version": 3
   },
   "file_extension": ".py",
   "mimetype": "text/x-python",
   "name": "python",
   "nbconvert_exporter": "python",
   "pygments_lexer": "ipython3",
   "version": "3.7.10"
  }
 },
 "nbformat": 4,
 "nbformat_minor": 5
}
